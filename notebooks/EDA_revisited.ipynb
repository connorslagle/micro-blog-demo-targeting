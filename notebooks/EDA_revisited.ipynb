{
 "cells": [
  {
   "cell_type": "markdown",
   "metadata": {},
   "source": [
    "# **Revisited Project EDA**"
   ]
  },
  {
   "cell_type": "code",
   "execution_count": 1,
   "metadata": {},
   "outputs": [],
   "source": [
    "import pandas as pd\n",
    "import numpy as np\n",
    "import matplotlib.pyplot as plt\n",
    "plt.rcParams.update({'font.size':18})"
   ]
  },
  {
   "cell_type": "code",
   "execution_count": 2,
   "metadata": {},
   "outputs": [],
   "source": [
    "import pyspark as ps\n",
    "import pandas as pd\n",
    "from pyspark.sql.functions import lit"
   ]
  },
  {
   "cell_type": "code",
   "execution_count": 3,
   "metadata": {},
   "outputs": [
    {
     "data": {
      "text/html": [
       "<div>\n",
       "<style scoped>\n",
       "    .dataframe tbody tr th:only-of-type {\n",
       "        vertical-align: middle;\n",
       "    }\n",
       "\n",
       "    .dataframe tbody tr th {\n",
       "        vertical-align: top;\n",
       "    }\n",
       "\n",
       "    .dataframe thead th {\n",
       "        text-align: right;\n",
       "    }\n",
       "</style>\n",
       "<table border=\"1\" class=\"dataframe\">\n",
       "  <thead>\n",
       "    <tr style=\"text-align: right;\">\n",
       "      <th></th>\n",
       "      <th>Unnamed: 0</th>\n",
       "      <th>tweet_id</th>\n",
       "      <th>state</th>\n",
       "      <th>search_term_key</th>\n",
       "      <th>tweet_time</th>\n",
       "      <th>tweet_text</th>\n",
       "      <th>tweet_text_range</th>\n",
       "      <th>source</th>\n",
       "      <th>user_id</th>\n",
       "      <th>user_date_created</th>\n",
       "      <th>location</th>\n",
       "      <th>description</th>\n",
       "      <th>user_verified</th>\n",
       "    </tr>\n",
       "  </thead>\n",
       "  <tbody>\n",
       "    <tr>\n",
       "      <th>0</th>\n",
       "      <td>0</td>\n",
       "      <td>1246830993903955968</td>\n",
       "      <td>AR</td>\n",
       "      <td>@joebiden</td>\n",
       "      <td>Sun Apr 05 16:04:08 +0000 2020</td>\n",
       "      <td>lil pump really said \"look at my wrist corona ...</td>\n",
       "      <td>NaN</td>\n",
       "      <td>&lt;a href=\"http://twitter.com/download/android\" ...</td>\n",
       "      <td>29214401</td>\n",
       "      <td>Mon Apr 06 14:53:51 +0000 2009</td>\n",
       "      <td>NaN</td>\n",
       "      <td>The son of Rage and Love</td>\n",
       "      <td>False</td>\n",
       "    </tr>\n",
       "    <tr>\n",
       "      <th>1</th>\n",
       "      <td>1</td>\n",
       "      <td>1246830994537222144</td>\n",
       "      <td>AR</td>\n",
       "      <td>@joebiden</td>\n",
       "      <td>Sun Apr 05 16:04:08 +0000 2020</td>\n",
       "      <td>@Stephan59177054 @NomikiKonst @JoeBiden I thou...</td>\n",
       "      <td>[40, 126]</td>\n",
       "      <td>&lt;a href=\"http://twitter.com/download/android\" ...</td>\n",
       "      <td>4766479674</td>\n",
       "      <td>Sat Jan 16 04:42:14 +0000 2016</td>\n",
       "      <td>geohell, disneyworld</td>\n",
       "      <td>i'm a fully automated toilet</td>\n",
       "      <td>False</td>\n",
       "    </tr>\n",
       "    <tr>\n",
       "      <th>2</th>\n",
       "      <td>2</td>\n",
       "      <td>1246830995132813312</td>\n",
       "      <td>AR</td>\n",
       "      <td>@joebiden</td>\n",
       "      <td>Sun Apr 05 16:04:08 +0000 2020</td>\n",
       "      <td>RT @Jali_Cat: Yet you’ve been in office since ...</td>\n",
       "      <td>NaN</td>\n",
       "      <td>&lt;a href=\"https://mobile.twitter.com\" rel=\"nofo...</td>\n",
       "      <td>3166145611</td>\n",
       "      <td>Tue Apr 21 02:02:20 +0000 2015</td>\n",
       "      <td>NaN</td>\n",
       "      <td>Trump supporter! I follow back all Patriots.  ...</td>\n",
       "      <td>False</td>\n",
       "    </tr>\n",
       "    <tr>\n",
       "      <th>3</th>\n",
       "      <td>3</td>\n",
       "      <td>1246830995761963008</td>\n",
       "      <td>AR</td>\n",
       "      <td>@joebiden</td>\n",
       "      <td>Sun Apr 05 16:04:09 +0000 2020</td>\n",
       "      <td>@JoeBiden This is a better message and more co...</td>\n",
       "      <td>[10, 87]</td>\n",
       "      <td>&lt;a href=\"http://twitter.com/#!/download/ipad\" ...</td>\n",
       "      <td>2868989345</td>\n",
       "      <td>Sun Nov 09 14:12:09 +0000 2014</td>\n",
       "      <td>North Huntingdon, PA</td>\n",
       "      <td>NaN</td>\n",
       "      <td>False</td>\n",
       "    </tr>\n",
       "    <tr>\n",
       "      <th>4</th>\n",
       "      <td>4</td>\n",
       "      <td>1246830995795369984</td>\n",
       "      <td>AR</td>\n",
       "      <td>@joebiden</td>\n",
       "      <td>Sun Apr 05 16:04:09 +0000 2020</td>\n",
       "      <td>RT @KaivanShroff: “I think it’s close to crimi...</td>\n",
       "      <td>NaN</td>\n",
       "      <td>&lt;a href=\"http://twitter.com/download/iphone\" r...</td>\n",
       "      <td>91865200</td>\n",
       "      <td>Sun Nov 22 20:47:43 +0000 2009</td>\n",
       "      <td>Colorado</td>\n",
       "      <td>#the Resistance🇱🇷</td>\n",
       "      <td>False</td>\n",
       "    </tr>\n",
       "  </tbody>\n",
       "</table>\n",
       "</div>"
      ],
      "text/plain": [
       "   Unnamed: 0             tweet_id state search_term_key  \\\n",
       "0           0  1246830993903955968    AR       @joebiden   \n",
       "1           1  1246830994537222144    AR       @joebiden   \n",
       "2           2  1246830995132813312    AR       @joebiden   \n",
       "3           3  1246830995761963008    AR       @joebiden   \n",
       "4           4  1246830995795369984    AR       @joebiden   \n",
       "\n",
       "                       tweet_time  \\\n",
       "0  Sun Apr 05 16:04:08 +0000 2020   \n",
       "1  Sun Apr 05 16:04:08 +0000 2020   \n",
       "2  Sun Apr 05 16:04:08 +0000 2020   \n",
       "3  Sun Apr 05 16:04:09 +0000 2020   \n",
       "4  Sun Apr 05 16:04:09 +0000 2020   \n",
       "\n",
       "                                          tweet_text tweet_text_range  \\\n",
       "0  lil pump really said \"look at my wrist corona ...              NaN   \n",
       "1  @Stephan59177054 @NomikiKonst @JoeBiden I thou...        [40, 126]   \n",
       "2  RT @Jali_Cat: Yet you’ve been in office since ...              NaN   \n",
       "3  @JoeBiden This is a better message and more co...         [10, 87]   \n",
       "4  RT @KaivanShroff: “I think it’s close to crimi...              NaN   \n",
       "\n",
       "                                              source     user_id  \\\n",
       "0  <a href=\"http://twitter.com/download/android\" ...    29214401   \n",
       "1  <a href=\"http://twitter.com/download/android\" ...  4766479674   \n",
       "2  <a href=\"https://mobile.twitter.com\" rel=\"nofo...  3166145611   \n",
       "3  <a href=\"http://twitter.com/#!/download/ipad\" ...  2868989345   \n",
       "4  <a href=\"http://twitter.com/download/iphone\" r...    91865200   \n",
       "\n",
       "                user_date_created              location  \\\n",
       "0  Mon Apr 06 14:53:51 +0000 2009                   NaN   \n",
       "1  Sat Jan 16 04:42:14 +0000 2016  geohell, disneyworld   \n",
       "2  Tue Apr 21 02:02:20 +0000 2015                   NaN   \n",
       "3  Sun Nov 09 14:12:09 +0000 2014  North Huntingdon, PA   \n",
       "4  Sun Nov 22 20:47:43 +0000 2009              Colorado   \n",
       "\n",
       "                                         description  user_verified  \n",
       "0                           The son of Rage and Love          False  \n",
       "1                       i'm a fully automated toilet          False  \n",
       "2  Trump supporter! I follow back all Patriots.  ...          False  \n",
       "3                                                NaN          False  \n",
       "4                                  #the Resistance🇱🇷          False  "
      ]
     },
     "execution_count": 3,
     "metadata": {},
     "output_type": "execute_result"
    }
   ],
   "source": [
    "# look at df created with spark importer\n",
    "\n",
    "df = pd.read_csv('../data/2020-08-11_all.csv', lineterminator='\\n')\n",
    "df.head()"
   ]
  },
  {
   "cell_type": "code",
   "execution_count": 4,
   "metadata": {},
   "outputs": [
    {
     "name": "stdout",
     "output_type": "stream",
     "text": [
      "<class 'pandas.core.frame.DataFrame'>\n",
      "RangeIndex: 117761 entries, 0 to 117760\n",
      "Data columns (total 13 columns):\n",
      " #   Column             Non-Null Count   Dtype \n",
      "---  ------             --------------   ----- \n",
      " 0   Unnamed: 0         117761 non-null  int64 \n",
      " 1   tweet_id           117761 non-null  int64 \n",
      " 2   state              117761 non-null  object\n",
      " 3   search_term_key    117761 non-null  object\n",
      " 4   tweet_time         117761 non-null  object\n",
      " 5   tweet_text         117761 non-null  object\n",
      " 6   tweet_text_range   45465 non-null   object\n",
      " 7   source             117761 non-null  object\n",
      " 8   user_id            117761 non-null  int64 \n",
      " 9   user_date_created  117761 non-null  object\n",
      " 10  location           86039 non-null   object\n",
      " 11  description        100013 non-null  object\n",
      " 12  user_verified      117761 non-null  bool  \n",
      "dtypes: bool(1), int64(3), object(9)\n",
      "memory usage: 10.9+ MB\n"
     ]
    }
   ],
   "source": [
    "df.info()"
   ]
  },
  {
   "cell_type": "code",
   "execution_count": 5,
   "metadata": {},
   "outputs": [
    {
     "name": "stdout",
     "output_type": "stream",
     "text": [
      "<class 'pandas.core.frame.DataFrame'>\n",
      "RangeIndex: 117761 entries, 0 to 117760\n",
      "Data columns (total 12 columns):\n",
      " #   Column             Non-Null Count   Dtype \n",
      "---  ------             --------------   ----- \n",
      " 0   tweet_id           117761 non-null  int64 \n",
      " 1   state              117761 non-null  object\n",
      " 2   search_term_key    117761 non-null  object\n",
      " 3   tweet_time         117761 non-null  object\n",
      " 4   tweet_text         117761 non-null  object\n",
      " 5   tweet_text_range   45465 non-null   object\n",
      " 6   source             117761 non-null  object\n",
      " 7   user_id            117761 non-null  int64 \n",
      " 8   user_date_created  117761 non-null  object\n",
      " 9   location           86039 non-null   object\n",
      " 10  description        100013 non-null  object\n",
      " 11  user_verified      117761 non-null  bool  \n",
      "dtypes: bool(1), int64(2), object(9)\n",
      "memory usage: 10.0+ MB\n"
     ]
    }
   ],
   "source": [
    "df = df.drop('Unnamed: 0', axis=1)\n",
    "df.info()"
   ]
  },
  {
   "cell_type": "code",
   "execution_count": 6,
   "metadata": {},
   "outputs": [
    {
     "name": "stdout",
     "output_type": "stream",
     "text": [
      "<class 'pandas.core.frame.DataFrame'>\n",
      "RangeIndex: 117652 entries, 0 to 117651\n",
      "Data columns (total 12 columns):\n",
      " #   Column             Non-Null Count   Dtype \n",
      "---  ------             --------------   ----- \n",
      " 0   tweet_id           117652 non-null  int64 \n",
      " 1   state              117652 non-null  object\n",
      " 2   search_term_key    117652 non-null  object\n",
      " 3   tweet_time         117652 non-null  object\n",
      " 4   tweet_text         117652 non-null  object\n",
      " 5   tweet_text_range   45427 non-null   object\n",
      " 6   source             117652 non-null  object\n",
      " 7   user_id            117652 non-null  int64 \n",
      " 8   user_date_created  117652 non-null  object\n",
      " 9   location           85966 non-null   object\n",
      " 10  description        99927 non-null   object\n",
      " 11  user_verified      117652 non-null  bool  \n",
      "dtypes: bool(1), int64(2), object(9)\n",
      "memory usage: 10.0+ MB\n"
     ]
    }
   ],
   "source": [
    "df = df.drop_duplicates(subset='tweet_id', ignore_index=True)\n",
    "df.info()"
   ]
  },
  {
   "cell_type": "code",
   "execution_count": 7,
   "metadata": {},
   "outputs": [],
   "source": [
    "df_sorted = df.sort_values(by='tweet_id', ignore_index=True)"
   ]
  },
  {
   "cell_type": "code",
   "execution_count": 8,
   "metadata": {},
   "outputs": [
    {
     "data": {
      "text/plain": [
       "<matplotlib.collections.PathCollection at 0x7f93605c5550>"
      ]
     },
     "execution_count": 8,
     "metadata": {},
     "output_type": "execute_result"
    },
    {
     "data": {
      "image/png": "[encoded data removed]",
      "text/plain": [
       "<Figure size 720x576 with 1 Axes>"
      ]
     },
     "metadata": {
      "needs_background": "light"
     },
     "output_type": "display_data"
    }
   ],
   "source": [
    "fig, ax = plt.subplots(figsize=(10,8))\n",
    "\n",
    "ax.scatter(df_sorted.index, df_sorted.tweet_id)"
   ]
  },
  {
   "cell_type": "code",
   "execution_count": 9,
   "metadata": {},
   "outputs": [
    {
     "data": {
      "text/plain": [
       "117652"
      ]
     },
     "execution_count": 9,
     "metadata": {},
     "output_type": "execute_result"
    }
   ],
   "source": [
    "df_sorted.tweet_id.unique().shape[0]"
   ]
  },
  {
   "cell_type": "code",
   "execution_count": 10,
   "metadata": {},
   "outputs": [
    {
     "data": {
      "text/plain": [
       "117652"
      ]
     },
     "execution_count": 10,
     "metadata": {},
     "output_type": "execute_result"
    }
   ],
   "source": [
    "df_sorted.tweet_id.shape[0]"
   ]
  },
  {
   "cell_type": "code",
   "execution_count": 11,
   "metadata": {},
   "outputs": [
    {
     "data": {
      "image/png": "[encoded data removed]",
      "text/plain": [
       "<Figure size 432x288 with 1 Axes>"
      ]
     },
     "metadata": {
      "needs_background": "light"
     },
     "output_type": "display_data"
    }
   ],
   "source": [
    "# lets check state classification balance\n",
    "\n",
    "df.groupby('state').count()['tweet_id'].plot(kind='bar')\n",
    "plt.show()"
   ]
  },
  {
   "cell_type": "code",
   "execution_count": 12,
   "metadata": {},
   "outputs": [
    {
     "data": {
      "image/png": "[encoded data removed]",
      "text/plain": [
       "<Figure size 432x288 with 1 Axes>"
      ]
     },
     "metadata": {
      "needs_background": "light"
     },
     "output_type": "display_data"
    }
   ],
   "source": [
    "df.groupby('search_term_key').count()['tweet_id'].plot(kind='bar')\n",
    "plt.show()"
   ]
  },
  {
   "cell_type": "code",
   "execution_count": 13,
   "metadata": {},
   "outputs": [
    {
     "name": "stdout",
     "output_type": "stream",
     "text": [
      "<class 'pandas.core.frame.DataFrame'>\n",
      "RangeIndex: 117652 entries, 0 to 117651\n",
      "Data columns (total 12 columns):\n",
      " #   Column             Non-Null Count   Dtype \n",
      "---  ------             --------------   ----- \n",
      " 0   tweet_id           117652 non-null  int64 \n",
      " 1   state              117652 non-null  object\n",
      " 2   search_term_key    117652 non-null  object\n",
      " 3   tweet_time         117652 non-null  object\n",
      " 4   tweet_text         117652 non-null  object\n",
      " 5   tweet_text_range   45427 non-null   object\n",
      " 6   source             117652 non-null  object\n",
      " 7   user_id            117652 non-null  int64 \n",
      " 8   user_date_created  117652 non-null  object\n",
      " 9   location           85966 non-null   object\n",
      " 10  description        99927 non-null   object\n",
      " 11  user_verified      117652 non-null  bool  \n",
      "dtypes: bool(1), int64(2), object(9)\n",
      "memory usage: 10.0+ MB\n"
     ]
    }
   ],
   "source": [
    "df.info()"
   ]
  },
  {
   "cell_type": "code",
   "execution_count": 14,
   "metadata": {},
   "outputs": [],
   "source": [
    "from bs4 import BeautifulSoup\n"
   ]
  },
  {
   "cell_type": "code",
   "execution_count": 18,
   "metadata": {},
   "outputs": [],
   "source": [
    "# remove tags from tweet text\n",
    "\n",
    "def format_range(raw_text):\n",
    "    if type(raw_text) == str: \n",
    "        start, end = ''.join([char for char in raw_text if char not in ['[', ',', ']']]).split(' ')\n",
    "        return (int(start), int(end))\n",
    "    else:\n",
    "        return raw_text"
   ]
  },
  {
   "cell_type": "code",
   "execution_count": 19,
   "metadata": {},
   "outputs": [],
   "source": [
    "df['text_text_range_as_tup'] = df['tweet_text_range'].apply(format_range)"
   ]
  },
  {
   "cell_type": "code",
   "execution_count": 20,
   "metadata": {},
   "outputs": [],
   "source": [
    "def no_mentions_text(tup_range_series, raw_tweet_text_series):\n",
    "    wo_mentions = np.empty(raw_tweet_text_series.shape, dtype='U256')\n",
    "    for idx, tup in enumerate(tup_range_series):\n",
    "        if type(tup) == tuple:\n",
    "            wo_mentions[idx] = raw_tweet_text_series[idx][tup[0]:tup[1]]\n",
    "        else:\n",
    "            wo_mentions[idx] = raw_tweet_text_series[idx]\n",
    "    return wo_mentions"
   ]
  },
  {
   "cell_type": "code",
   "execution_count": 21,
   "metadata": {},
   "outputs": [],
   "source": [
    "df['wo_mentions'] = no_mentions_text(df['text_text_range_as_tup'], df['tweet_text'])"
   ]
  },
  {
   "cell_type": "code",
   "execution_count": 22,
   "metadata": {},
   "outputs": [
    {
     "data": {
      "text/html": [
       "<div>\n",
       "<style scoped>\n",
       "    .dataframe tbody tr th:only-of-type {\n",
       "        vertical-align: middle;\n",
       "    }\n",
       "\n",
       "    .dataframe tbody tr th {\n",
       "        vertical-align: top;\n",
       "    }\n",
       "\n",
       "    .dataframe thead th {\n",
       "        text-align: right;\n",
       "    }\n",
       "</style>\n",
       "<table border=\"1\" class=\"dataframe\">\n",
       "  <thead>\n",
       "    <tr style=\"text-align: right;\">\n",
       "      <th></th>\n",
       "      <th>tweet_id</th>\n",
       "      <th>state</th>\n",
       "      <th>search_term_key</th>\n",
       "      <th>tweet_time</th>\n",
       "      <th>tweet_text</th>\n",
       "      <th>tweet_text_range</th>\n",
       "      <th>source</th>\n",
       "      <th>user_id</th>\n",
       "      <th>user_date_created</th>\n",
       "      <th>location</th>\n",
       "      <th>description</th>\n",
       "      <th>user_verified</th>\n",
       "      <th>text_text_range_as_tup</th>\n",
       "      <th>wo_mentions</th>\n",
       "    </tr>\n",
       "  </thead>\n",
       "  <tbody>\n",
       "    <tr>\n",
       "      <th>190</th>\n",
       "      <td>1246946726595960837</td>\n",
       "      <td>AR</td>\n",
       "      <td>@joebiden</td>\n",
       "      <td>Sun Apr 05 23:44:01 +0000 2020</td>\n",
       "      <td>@FamishedCreator @BenSpielberg @JoeBiden @TomP...</td>\n",
       "      <td>[51, 116]</td>\n",
       "      <td>&lt;a href=\"https://mobile.twitter.com\" rel=\"nofo...</td>\n",
       "      <td>925241884313837569</td>\n",
       "      <td>Tue Oct 31 06:03:50 +0000 2017</td>\n",
       "      <td>Sunnyvale Trailer Park</td>\n",
       "      <td>Free snark, Free answers to plumbing questions...</td>\n",
       "      <td>False</td>\n",
       "      <td>(51, 116)</td>\n",
       "      <td>Id like to see @TomPerez wiping down the votin...</td>\n",
       "    </tr>\n",
       "    <tr>\n",
       "      <th>191</th>\n",
       "      <td>1246946727363514379</td>\n",
       "      <td>AR</td>\n",
       "      <td>@joebiden</td>\n",
       "      <td>Sun Apr 05 23:44:01 +0000 2020</td>\n",
       "      <td>Let me ask you something @amyklobuchar, @PeteB...</td>\n",
       "      <td>NaN</td>\n",
       "      <td>&lt;a href=\"http://twitter.com/download/iphone\" r...</td>\n",
       "      <td>490076756</td>\n",
       "      <td>Sun Feb 12 06:04:45 +0000 2012</td>\n",
       "      <td>Minnesota</td>\n",
       "      <td>A stranger in a strange land. Fuck your presid...</td>\n",
       "      <td>False</td>\n",
       "      <td>NaN</td>\n",
       "      <td>Let me ask you something @amyklobuchar, @PeteB...</td>\n",
       "    </tr>\n",
       "    <tr>\n",
       "      <th>192</th>\n",
       "      <td>1246946727896272896</td>\n",
       "      <td>AR</td>\n",
       "      <td>@joebiden</td>\n",
       "      <td>Sun Apr 05 23:44:01 +0000 2020</td>\n",
       "      <td>Bruh I get so tired of u broke ass niggas stea...</td>\n",
       "      <td>NaN</td>\n",
       "      <td>&lt;a href=\"http://twitter.com/download/iphone\" r...</td>\n",
       "      <td>1229960245381865473</td>\n",
       "      <td>Wed Feb 19 02:45:58 +0000 2020</td>\n",
       "      <td>austin houston</td>\n",
       "      <td>🇯🇲 ♎︎ ☉ ♎︎ ☾ ♎︎⇡robyen ⚢ 21. sc: hippigale</td>\n",
       "      <td>False</td>\n",
       "      <td>NaN</td>\n",
       "      <td>Bruh I get so tired of u broke ass niggas stea...</td>\n",
       "    </tr>\n",
       "    <tr>\n",
       "      <th>193</th>\n",
       "      <td>1246946728575672320</td>\n",
       "      <td>AR</td>\n",
       "      <td>@joebiden</td>\n",
       "      <td>Sun Apr 05 23:44:01 +0000 2020</td>\n",
       "      <td>@JoeBiden Joe, what is Namenda?</td>\n",
       "      <td>[10, 31]</td>\n",
       "      <td>&lt;a href=\"http://twitter.com/download/android\" ...</td>\n",
       "      <td>452669003</td>\n",
       "      <td>Mon Jan 02 03:41:14 +0000 2012</td>\n",
       "      <td>Tyler, TX</td>\n",
       "      <td>NaN</td>\n",
       "      <td>False</td>\n",
       "      <td>(10, 31)</td>\n",
       "      <td>Joe, what is Namenda?</td>\n",
       "    </tr>\n",
       "    <tr>\n",
       "      <th>194</th>\n",
       "      <td>1246946729129320449</td>\n",
       "      <td>AR</td>\n",
       "      <td>@joebiden</td>\n",
       "      <td>Sun Apr 05 23:44:02 +0000 2020</td>\n",
       "      <td>@ScottPresler @JoeBiden @DrBiden I know so man...</td>\n",
       "      <td>[33, 140]</td>\n",
       "      <td>&lt;a href=\"http://twitter.com/download/android\" ...</td>\n",
       "      <td>244674034</td>\n",
       "      <td>Sat Jan 29 21:34:34 +0000 2011</td>\n",
       "      <td>New Hampshire</td>\n",
       "      <td>Proud American,Italian heritage,  supporter of...</td>\n",
       "      <td>False</td>\n",
       "      <td>(33, 140)</td>\n",
       "      <td>I know so many fathers that if it was their da...</td>\n",
       "    </tr>\n",
       "  </tbody>\n",
       "</table>\n",
       "</div>"
      ],
      "text/plain": [
       "                tweet_id state search_term_key  \\\n",
       "190  1246946726595960837    AR       @joebiden   \n",
       "191  1246946727363514379    AR       @joebiden   \n",
       "192  1246946727896272896    AR       @joebiden   \n",
       "193  1246946728575672320    AR       @joebiden   \n",
       "194  1246946729129320449    AR       @joebiden   \n",
       "\n",
       "                         tweet_time  \\\n",
       "190  Sun Apr 05 23:44:01 +0000 2020   \n",
       "191  Sun Apr 05 23:44:01 +0000 2020   \n",
       "192  Sun Apr 05 23:44:01 +0000 2020   \n",
       "193  Sun Apr 05 23:44:01 +0000 2020   \n",
       "194  Sun Apr 05 23:44:02 +0000 2020   \n",
       "\n",
       "                                            tweet_text tweet_text_range  \\\n",
       "190  @FamishedCreator @BenSpielberg @JoeBiden @TomP...        [51, 116]   \n",
       "191  Let me ask you something @amyklobuchar, @PeteB...              NaN   \n",
       "192  Bruh I get so tired of u broke ass niggas stea...              NaN   \n",
       "193                    @JoeBiden Joe, what is Namenda?         [10, 31]   \n",
       "194  @ScottPresler @JoeBiden @DrBiden I know so man...        [33, 140]   \n",
       "\n",
       "                                                source              user_id  \\\n",
       "190  <a href=\"https://mobile.twitter.com\" rel=\"nofo...   925241884313837569   \n",
       "191  <a href=\"http://twitter.com/download/iphone\" r...            490076756   \n",
       "192  <a href=\"http://twitter.com/download/iphone\" r...  1229960245381865473   \n",
       "193  <a href=\"http://twitter.com/download/android\" ...            452669003   \n",
       "194  <a href=\"http://twitter.com/download/android\" ...            244674034   \n",
       "\n",
       "                  user_date_created                location  \\\n",
       "190  Tue Oct 31 06:03:50 +0000 2017  Sunnyvale Trailer Park   \n",
       "191  Sun Feb 12 06:04:45 +0000 2012               Minnesota   \n",
       "192  Wed Feb 19 02:45:58 +0000 2020          austin houston   \n",
       "193  Mon Jan 02 03:41:14 +0000 2012               Tyler, TX   \n",
       "194  Sat Jan 29 21:34:34 +0000 2011           New Hampshire   \n",
       "\n",
       "                                           description  user_verified  \\\n",
       "190  Free snark, Free answers to plumbing questions...          False   \n",
       "191  A stranger in a strange land. Fuck your presid...          False   \n",
       "192         🇯🇲 ♎︎ ☉ ♎︎ ☾ ♎︎⇡robyen ⚢ 21. sc: hippigale          False   \n",
       "193                                                NaN          False   \n",
       "194  Proud American,Italian heritage,  supporter of...          False   \n",
       "\n",
       "    text_text_range_as_tup                                        wo_mentions  \n",
       "190              (51, 116)  Id like to see @TomPerez wiping down the votin...  \n",
       "191                    NaN  Let me ask you something @amyklobuchar, @PeteB...  \n",
       "192                    NaN  Bruh I get so tired of u broke ass niggas stea...  \n",
       "193               (10, 31)                              Joe, what is Namenda?  \n",
       "194              (33, 140)  I know so many fathers that if it was their da...  "
      ]
     },
     "execution_count": 22,
     "metadata": {},
     "output_type": "execute_result"
    }
   ],
   "source": [
    "df.iloc[190:195]"
   ]
  },
  {
   "cell_type": "code",
   "execution_count": 23,
   "metadata": {},
   "outputs": [
    {
     "data": {
      "text/plain": [
       "0         <a href=\"http://twitter.com/download/android\" ...\n",
       "1         <a href=\"http://twitter.com/download/android\" ...\n",
       "2         <a href=\"https://mobile.twitter.com\" rel=\"nofo...\n",
       "3         <a href=\"http://twitter.com/#!/download/ipad\" ...\n",
       "4         <a href=\"http://twitter.com/download/iphone\" r...\n",
       "                                ...                        \n",
       "117647    <a href=\"http://twitter.com/download/iphone\" r...\n",
       "117648    <a href=\"http://twitter.com/download/android\" ...\n",
       "117649    <a href=\"http://twitter.com/download/iphone\" r...\n",
       "117650    <a href=\"https://mobile.twitter.com\" rel=\"nofo...\n",
       "117651    <a href=\"http://twitter.com/download/android\" ...\n",
       "Name: source, Length: 117652, dtype: object"
      ]
     },
     "execution_count": 23,
     "metadata": {},
     "output_type": "execute_result"
    }
   ],
   "source": [
    "source = df['source']\n",
    "source"
   ]
  },
  {
   "cell_type": "code",
   "execution_count": 26,
   "metadata": {},
   "outputs": [
    {
     "data": {
      "text/plain": [
       "'Twitter for Android'"
      ]
     },
     "execution_count": 26,
     "metadata": {},
     "output_type": "execute_result"
    }
   ],
   "source": [
    "BeautifulSoup(source[0]).find('a').getText()"
   ]
  },
  {
   "cell_type": "code",
   "execution_count": 27,
   "metadata": {},
   "outputs": [
    {
     "name": "stdout",
     "output_type": "stream",
     "text": [
      "<class 'pandas.core.frame.DataFrame'>\n",
      "RangeIndex: 117652 entries, 0 to 117651\n",
      "Data columns (total 14 columns):\n",
      " #   Column                  Non-Null Count   Dtype \n",
      "---  ------                  --------------   ----- \n",
      " 0   tweet_id                117652 non-null  int64 \n",
      " 1   state                   117652 non-null  object\n",
      " 2   search_term_key         117652 non-null  object\n",
      " 3   tweet_time              117652 non-null  object\n",
      " 4   tweet_text              117652 non-null  object\n",
      " 5   tweet_text_range        45427 non-null   object\n",
      " 6   source                  117652 non-null  object\n",
      " 7   user_id                 117652 non-null  int64 \n",
      " 8   user_date_created       117652 non-null  object\n",
      " 9   location                85966 non-null   object\n",
      " 10  description             99927 non-null   object\n",
      " 11  user_verified           117652 non-null  bool  \n",
      " 12  text_text_range_as_tup  45427 non-null   object\n",
      " 13  wo_mentions             117652 non-null  object\n",
      "dtypes: bool(1), int64(2), object(11)\n",
      "memory usage: 11.8+ MB\n"
     ]
    }
   ],
   "source": [
    "df.info()"
   ]
  },
  {
   "cell_type": "code",
   "execution_count": 24,
   "metadata": {},
   "outputs": [],
   "source": [
    "date_cols = ['tweet_date_created', 'user_date_created']\n",
    "df_clean = pd.read_csv('../data/2020-08-11_all_clean.csv', lineterminator='\\n', parse_dates=date_cols, infer_datetime_format=True)"
   ]
  },
  {
   "cell_type": "code",
   "execution_count": 25,
   "metadata": {},
   "outputs": [
    {
     "name": "stdout",
     "output_type": "stream",
     "text": [
      "<class 'pandas.core.frame.DataFrame'>\n",
      "RangeIndex: 117652 entries, 0 to 117651\n",
      "Data columns (total 11 columns):\n",
      " #   Column                  Non-Null Count   Dtype              \n",
      "---  ------                  --------------   -----              \n",
      " 0   tweet_id                117652 non-null  int64              \n",
      " 1   state                   117652 non-null  object             \n",
      " 2   search_term_key         117652 non-null  object             \n",
      " 3   tweet_date_created      117652 non-null  datetime64[ns, UTC]\n",
      " 4   user_id                 117652 non-null  int64              \n",
      " 5   user_date_created       117652 non-null  datetime64[ns, UTC]\n",
      " 6   location                85966 non-null   object             \n",
      " 7   description             99927 non-null   object             \n",
      " 8   user_verified           117652 non-null  bool               \n",
      " 9   tweet_text_wo_mentions  117652 non-null  object             \n",
      " 10  source_text             117652 non-null  object             \n",
      "dtypes: bool(1), datetime64[ns, UTC](2), int64(2), object(6)\n",
      "memory usage: 9.1+ MB\n"
     ]
    }
   ],
   "source": [
    "df_clean.info()"
   ]
  },
  {
   "cell_type": "code",
   "execution_count": 58,
   "metadata": {},
   "outputs": [
    {
     "data": {
      "image/png": "[encoded data removed]",
      "text/plain": [
       "<Figure size 864x576 with 1 Axes>"
      ]
     },
     "metadata": {
      "needs_background": "light"
     },
     "output_type": "display_data"
    }
   ],
   "source": [
    "df_bysource = df_clean.groupby('source_text').count().sort_values('state', ascending=False)\n",
    "vals = df_bysource.values[:,1]\n",
    "scaled_vals = vals/np.sum(vals)\n",
    "\n",
    "fig, ax = plt.subplots(figsize=(12,8))\n",
    "ax.plot(df_bysource.index[:20], np.cumsum(scaled_vals)[:20], label='Cumulative Fraction')\n",
    "ax.set_xticklabels(df_bysource.index[:20], rotation=90)\n",
    "ax.axhline(0.95, label='Other class cutoff', ls='--', c='r')\n",
    "ax.legend()\n",
    "ax.set_ylabel('Cumulative Fraction')\n",
    "plt.show()"
   ]
  },
  {
   "cell_type": "code",
   "execution_count": 61,
   "metadata": {},
   "outputs": [
    {
     "data": {
      "text/plain": [
       "array(['Android', 'Web', 'iPad', 'iPhone', 'TweetDeck', 'Buffer',\n",
       "       'Twitter Web Client', 'Instagram', 'CareerArc 2.0',\n",
       "       'CWIS Twitter Feed', 'Talon Android', 'Twitterrific for iOS',\n",
       "       'bb2020', 'eat it app', 'Hootsuite Inc.', 'Trackalytics Tweeter',\n",
       "       'Foursquare', 'Trump Retweet Bot', 'Оwly',\n",
       "       'UberSocial for Android', 'Tweetbot for iΟS', 'Tweetbot for Mac',\n",
       "       'NWSSevereTstorm', 'MeteoWare Plus+', 'TweetCaster for Android',\n",
       "       'dlvr.it', 'I Just Want To Tweet', 'TheMindful', 'Nuzzel',\n",
       "       'Twitter for Mac', 'CuratingDevList', 'Republican Tweets',\n",
       "       'Echofon', 'Janetter Pro for Android', 'Untappd',\n",
       "       'Foursquare Swarm', 'IWPTweets', 'SafeTweet by TweetMyJOBS',\n",
       "       'CORE ListingMachine', 'iembot', 'Svr Wx Impact Graphics - EWX',\n",
       "       'USGS Texas Rain', 'StormerSite', 'Endomondo', 'RedianDevBot',\n",
       "       'Paper.li', 'SocialFlow', 'Sprout Social', 'IFTTT',\n",
       "       'tiorradio2 publisher', 'Ted Wilson', 'Sprinklr', 'GaggleAMP',\n",
       "       'Tweetlogix', 'drobapi', 'LinkedIn', 'SocioAdvocacy',\n",
       "       'ifSocial - Deliver Media', 'Blog2Social APP', 'Mobile Web (M2)',\n",
       "       'LndOntRetweet', 'Peace & Love', 'todaysmathematics',\n",
       "       'SocialNewsDesk', 'publichealthaggregator', 'Cloohawk',\n",
       "       'Tweet bot new app test', 'thevirustracker', 'The Global Herald',\n",
       "       'Twitter for Advertisers', 'Twitter Media Studio',\n",
       "       ' IndiaTodayFLASH', 'AzeBot', 'Cavin', 'World Nws',\n",
       "       'ForTheEntertainment', 'tiorradio3 publisher', 'ContentStudio.io',\n",
       "       'Resistbot Open Letters', 'Tim Wilson', 'Periscope', 'oysttyer',\n",
       "       'Etic Lab Toolkit', 'Zift123 Platform', 'SmartNews | スマートニュース',\n",
       "       'tweets4gamerz', 'tiorradio1 publisher', 'Loomly', 'SmartTypesBot',\n",
       "       'mmatweets', 'coronavirus-twitter-bot', 'coronavid19_bot',\n",
       "       'jayeshthakur', 'PPHRbot', 'Alex Retweet4', 'BotMinerodeMasas',\n",
       "       'Freshdesk', 'HubSpot', 'SEMrush Social Media Tool',\n",
       "       'Bot_Confinement', 'Oktopost', 'Triberr', 'Flamingo for Android',\n",
       "       'RtoTwitterApp', 'EMZT Podcast and Productions', 'Claire stream',\n",
       "       'COVID19-Updates', 'sharkradionet', 'CyberSecurityBot',\n",
       "       'TheMagaBat', 'Echofon  Android', 'NbM-B Tweeter',\n",
       "       'The Social Jukebox', 'nembotavy_010101', 'boltsource-tweetfull',\n",
       "       'PostBeyond', 'retweet_scicomm', 'Right Relevance', 'NovaSam',\n",
       "       'Projecttopics', 'Healthcare Aggregate', 'Tiana1',\n",
       "       'StockTwits Web', 'Dynamic Signal', 'lebenspruch', 'Talon (Plus)',\n",
       "       'WinningPonies', 'trendsmetadata', 'Squarespace', 'Quake Reporter',\n",
       "       'WordPress.com', 'EarthquakeTrack.com', 'everyEarthquake',\n",
       "       'IlDuce2016', 'Find Fake Followers', 'Twitterrific for Mac',\n",
       "       'JGio Bot', \"Daddy's Calling\", 'Trump Mentions',\n",
       "       \"People's Party of Canada Tweeter\", 'TF Trusted News',\n",
       "       'Tweecha Lite', 'Plume\\xa0for\\xa0Android', 'WebSummitBot2',\n",
       "       'shutupdjt', 'TweetCaster for iOS', 'Cheap Bots, Done Quick!',\n",
       "       'AdvancedWalrusNotificationSystem', 'MMK Generator',\n",
       "       'AgentOrangeDonaldTrump', 'cheeto-bot', 'GoodTrumpsTrump',\n",
       "       '_stranger_twitterbot_', 'SOTAwatch', 'OurFuture-BOT',\n",
       "       'Gravity Forever', 'aws-twitterbot-workshop', 'StopMadness2',\n",
       "       'NoMalarkey', 'All 435 Reps', 'TwitPane for Android',\n",
       "       'Recruitology', 'Janetter iOS', 'Fenix 2', 'Balloon tweeter',\n",
       "       'Twitter for  iPhone', 'SoundHound', 'CareerCenter',\n",
       "       'Crowdfire App', 'Apphi', 'FindMASA', 'Global Citizen Mobile App',\n",
       "       'Whitley2020', 'Qilio', 'XHNorthAmerica', 'China Xinhua News',\n",
       "       'Dynamic Tweets', 'Bird Netting', 'eClincher', 'world_news_eng',\n",
       "       'responsibot', 'PRCA (Ireland)', 'Grabyo', 'Sumanerts', 'Piepmatz',\n",
       "       'Retweet Picker', 'COVID_PT_DATA', 'test-shield-bot',\n",
       "       'TWEET.PHOTO', 'himachalibot', 'Emerging Technology Relevant app',\n",
       "       'RU Auto post', 'Gain Platform', 'Zoho Social',\n",
       "       't_client_cli_neilellis', 'Spreaker', 'anpaus-twitter-yt',\n",
       "       'RTorthopaedics', 'AgoraPulse Manager', 'hubofml', 'flapol',\n",
       "       'Alexander Higgins', 'Phil Ammann', 'Smarp.',\n",
       "       \"iContact's Social Tools\", 'Cyber Security Feed',\n",
       "       'startbitcoinclick', 'Tom Wilson', 'Mumbai News',\n",
       "       'AI Data Governance Framework', 'Zolushka4Sean', 'IAMBLOG2TWITTER',\n",
       "       'AudioburstPublisher', 'androiddevrtbot',\n",
       "       'The Co-op that topples Amazon', 'behavioralscience',\n",
       "       \"What's Running\", 'TechGroups', 'Orangutan Bot', 'TrumpLuvr2000',\n",
       "       'Sad Trump Club', 'Constitution_Bot', 'BigDonT_decrees_part_Deux',\n",
       "       'Twidere for Android (Deprecated)', 'JustMeTellingEveryone',\n",
       "       'Stop it Bot', 'stepcounter_tracker', 'ThreadReaderApp',\n",
       "       'Phone2Action', 'FrankNewsBot', 'PUREPATRIOT1',\n",
       "       'Twidere for Android', 'TW Blue', 'TownTweet',\n",
       "       'City of Portland 911 feed', 'City of Portland Fire/EMS feed',\n",
       "       'Trump OwO', 'NVSeismoLab', 'Miamisecretpapers BOT', 'GeoScrubApp',\n",
       "       'Quis Custodiet', 'Deep Space Network', 'tsartbot', 'EQBot',\n",
       "       'SkyCirclesLA', 'OC Weather Bot', 'Sandaysoft Cumulus',\n",
       "       'CarpoolWorld Feed', 'Service Updater', 'WSDOT Southwest',\n",
       "       'BrainstormBot', 'EMSC Felt earthquakes', 'The Teebots',\n",
       "       'San Diego Earthquake Broadcast', 'Plus App For Tweeting',\n",
       "       'Tumblr', 'Echobox Social', 'TwinyBots', 'Restream.io',\n",
       "       'friendly fem tech bot', 'TriniInXisleBot', 'GMR009',\n",
       "       'Pr0jectN1ne', 'YoruFukurou', 'Threader_client',\n",
       "       'BotHelloWorld-SSBot', 'Powercaster Media', 'GroupTweet',\n",
       "       'drumup.io', 'Falcon Social Media Management ', 'aietl',\n",
       "       'HomesAerialView', 'Twittimer', 'CoSchedule', 'Hotaru for iOS',\n",
       "       'Social Media Publisher App ', 'Free Project Topics',\n",
       "       'Tabtter Free', 'SocialBee.io v2', 'rate_twitte',\n",
       "       'Falcon Pro 2015 BETA', 'AnimeTwitBot', 'SocialPilot.co',\n",
       "       'MeetEdgar', 'True Anthem', 'JS RPI Retweeter',\n",
       "       'Microsoft Azure Logic Apps', 'Khoros', 'Fenix for Android',\n",
       "       'PHDS bot mark 2', 'Emphatic', '2ndBot', 'Gambiste', 'CareMo News',\n",
       "       'Prof. Shanku', 'NewTweeting', 'Corona Virus Update Bot',\n",
       "       'Retweet not', 'malliard', 'IndiaPost', 'Corobot19', 'NWSWebsite',\n",
       "       'Zapier.com', 'Twitter Media Studio - LiveCut', 'twitbot_h',\n",
       "       'Garmin inReach', 'The Tweeted Times', 'Twitter Retweet test',\n",
       "       'Fenice for Twitter - Windows 10', 'Libel Trump',\n",
       "       'ツイタマ+ for Android', 'BorderScanner', 'BizCreditCo',\n",
       "       '$tup!dTwitB0t$', 'SmithyJenkerson'], dtype=object)"
      ]
     },
     "execution_count": 61,
     "metadata": {},
     "output_type": "execute_result"
    }
   ],
   "source": [
    "# iPhone, Android, Web App, iPad and Other \n",
    "\n",
    "source_class_dict = {'Twitter for iPhone': 'iPhone', 'Twitter for Android': 'Android',\n",
    "                     'Twitter Web App': 'Web', 'Twitter for iPad': 'iPad'}\n",
    "df_clean['source_text'] = df_clean['source_text'].replace(source_class_dict)\n",
    "df_clean['source_text'].unique()"
   ]
  },
  {
   "cell_type": "code",
   "execution_count": 80,
   "metadata": {},
   "outputs": [],
   "source": [
    "df_clean['source_text'].where(df_clean['source_text'].apply(lambda x: x in source_class_dict.values()),'Other', inplace=True)"
   ]
  },
  {
   "cell_type": "code",
   "execution_count": 81,
   "metadata": {},
   "outputs": [
    {
     "data": {
      "text/plain": [
       "array(['Android', 'Web', 'iPad', 'iPhone', 'Other'], dtype=object)"
      ]
     },
     "execution_count": 81,
     "metadata": {},
     "output_type": "execute_result"
    }
   ],
   "source": [
    "df_clean['source_text'].unique()"
   ]
  },
  {
   "cell_type": "code",
   "execution_count": 73,
   "metadata": {},
   "outputs": [
    {
     "data": {
      "text/plain": [
       "tweet_id                                                1246830993903955968\n",
       "state                                                                    AR\n",
       "search_term_key                                                   @joebiden\n",
       "tweet_date_created                                2020-04-05 16:04:08+00:00\n",
       "user_id                                                            29214401\n",
       "user_date_created                                 2009-04-06 14:53:51+00:00\n",
       "location                                                                NaN\n",
       "description                                        The son of Rage and Love\n",
       "user_verified                                                         False\n",
       "tweet_text_wo_mentions    lil pump really said \"look at my wrist corona ...\n",
       "source_text                                                         Android\n",
       "Name: 0, dtype: object"
      ]
     },
     "execution_count": 73,
     "metadata": {},
     "output_type": "execute_result"
    }
   ],
   "source": [
    "df_clean.iloc[0]"
   ]
  },
  {
   "cell_type": "code",
   "execution_count": 82,
   "metadata": {},
   "outputs": [
    {
     "data": {
      "text/html": [
       "<div>\n",
       "<style scoped>\n",
       "    .dataframe tbody tr th:only-of-type {\n",
       "        vertical-align: middle;\n",
       "    }\n",
       "\n",
       "    .dataframe tbody tr th {\n",
       "        vertical-align: top;\n",
       "    }\n",
       "\n",
       "    .dataframe thead th {\n",
       "        text-align: right;\n",
       "    }\n",
       "</style>\n",
       "<table border=\"1\" class=\"dataframe\">\n",
       "  <thead>\n",
       "    <tr style=\"text-align: right;\">\n",
       "      <th></th>\n",
       "      <th>tweet_id</th>\n",
       "      <th>state</th>\n",
       "      <th>search_term_key</th>\n",
       "      <th>tweet_date_created</th>\n",
       "      <th>user_id</th>\n",
       "      <th>user_date_created</th>\n",
       "      <th>location</th>\n",
       "      <th>description</th>\n",
       "      <th>user_verified</th>\n",
       "      <th>tweet_text_wo_mentions</th>\n",
       "      <th>source_text</th>\n",
       "    </tr>\n",
       "  </thead>\n",
       "  <tbody>\n",
       "    <tr>\n",
       "      <th>0</th>\n",
       "      <td>1246830993903955968</td>\n",
       "      <td>AR</td>\n",
       "      <td>@joebiden</td>\n",
       "      <td>2020-04-05 16:04:08+00:00</td>\n",
       "      <td>29214401</td>\n",
       "      <td>2009-04-06 14:53:51+00:00</td>\n",
       "      <td>NaN</td>\n",
       "      <td>The son of Rage and Love</td>\n",
       "      <td>False</td>\n",
       "      <td>lil pump really said \"look at my wrist corona ...</td>\n",
       "      <td>Android</td>\n",
       "    </tr>\n",
       "    <tr>\n",
       "      <th>1</th>\n",
       "      <td>1246830994537222144</td>\n",
       "      <td>AR</td>\n",
       "      <td>@joebiden</td>\n",
       "      <td>2020-04-05 16:04:08+00:00</td>\n",
       "      <td>4766479674</td>\n",
       "      <td>2016-01-16 04:42:14+00:00</td>\n",
       "      <td>geohell, disneyworld</td>\n",
       "      <td>i'm a fully automated toilet</td>\n",
       "      <td>False</td>\n",
       "      <td>@Stephan59177054 @NomikiKonst @JoeBiden I thou...</td>\n",
       "      <td>Android</td>\n",
       "    </tr>\n",
       "    <tr>\n",
       "      <th>2</th>\n",
       "      <td>1246830995132813312</td>\n",
       "      <td>AR</td>\n",
       "      <td>@joebiden</td>\n",
       "      <td>2020-04-05 16:04:08+00:00</td>\n",
       "      <td>3166145611</td>\n",
       "      <td>2015-04-21 02:02:20+00:00</td>\n",
       "      <td>NaN</td>\n",
       "      <td>Trump supporter! I follow back all Patriots.  ...</td>\n",
       "      <td>False</td>\n",
       "      <td>RT @Jali_Cat: Yet you’ve been in office since ...</td>\n",
       "      <td>Web</td>\n",
       "    </tr>\n",
       "    <tr>\n",
       "      <th>3</th>\n",
       "      <td>1246830995761963008</td>\n",
       "      <td>AR</td>\n",
       "      <td>@joebiden</td>\n",
       "      <td>2020-04-05 16:04:09+00:00</td>\n",
       "      <td>2868989345</td>\n",
       "      <td>2014-11-09 14:12:09+00:00</td>\n",
       "      <td>North Huntingdon, PA</td>\n",
       "      <td>NaN</td>\n",
       "      <td>False</td>\n",
       "      <td>@JoeBiden This is a better message and more co...</td>\n",
       "      <td>iPad</td>\n",
       "    </tr>\n",
       "    <tr>\n",
       "      <th>4</th>\n",
       "      <td>1246830995795369984</td>\n",
       "      <td>AR</td>\n",
       "      <td>@joebiden</td>\n",
       "      <td>2020-04-05 16:04:09+00:00</td>\n",
       "      <td>91865200</td>\n",
       "      <td>2009-11-22 20:47:43+00:00</td>\n",
       "      <td>Colorado</td>\n",
       "      <td>#the Resistance🇱🇷</td>\n",
       "      <td>False</td>\n",
       "      <td>RT @KaivanShroff: “I think it’s close to crimi...</td>\n",
       "      <td>iPhone</td>\n",
       "    </tr>\n",
       "  </tbody>\n",
       "</table>\n",
       "</div>"
      ],
      "text/plain": [
       "              tweet_id state search_term_key        tweet_date_created  \\\n",
       "0  1246830993903955968    AR       @joebiden 2020-04-05 16:04:08+00:00   \n",
       "1  1246830994537222144    AR       @joebiden 2020-04-05 16:04:08+00:00   \n",
       "2  1246830995132813312    AR       @joebiden 2020-04-05 16:04:08+00:00   \n",
       "3  1246830995761963008    AR       @joebiden 2020-04-05 16:04:09+00:00   \n",
       "4  1246830995795369984    AR       @joebiden 2020-04-05 16:04:09+00:00   \n",
       "\n",
       "      user_id         user_date_created              location  \\\n",
       "0    29214401 2009-04-06 14:53:51+00:00                   NaN   \n",
       "1  4766479674 2016-01-16 04:42:14+00:00  geohell, disneyworld   \n",
       "2  3166145611 2015-04-21 02:02:20+00:00                   NaN   \n",
       "3  2868989345 2014-11-09 14:12:09+00:00  North Huntingdon, PA   \n",
       "4    91865200 2009-11-22 20:47:43+00:00              Colorado   \n",
       "\n",
       "                                         description  user_verified  \\\n",
       "0                           The son of Rage and Love          False   \n",
       "1                       i'm a fully automated toilet          False   \n",
       "2  Trump supporter! I follow back all Patriots.  ...          False   \n",
       "3                                                NaN          False   \n",
       "4                                  #the Resistance🇱🇷          False   \n",
       "\n",
       "                              tweet_text_wo_mentions source_text  \n",
       "0  lil pump really said \"look at my wrist corona ...     Android  \n",
       "1  @Stephan59177054 @NomikiKonst @JoeBiden I thou...     Android  \n",
       "2  RT @Jali_Cat: Yet you’ve been in office since ...         Web  \n",
       "3  @JoeBiden This is a better message and more co...        iPad  \n",
       "4  RT @KaivanShroff: “I think it’s close to crimi...      iPhone  "
      ]
     },
     "execution_count": 82,
     "metadata": {},
     "output_type": "execute_result"
    }
   ],
   "source": [
    "df_clean.head()"
   ]
  },
  {
   "cell_type": "code",
   "execution_count": 86,
   "metadata": {},
   "outputs": [
    {
     "data": {
      "text/plain": [
       "117652"
      ]
     },
     "execution_count": 86,
     "metadata": {},
     "output_type": "execute_result"
    }
   ],
   "source": [
    "df_clean['description'].isnull().count()"
   ]
  },
  {
   "cell_type": "code",
   "execution_count": 122,
   "metadata": {},
   "outputs": [
    {
     "data": {
      "image/png": "[encoded data removed]",
      "text/plain": [
       "<Figure size 432x288 with 1 Axes>"
      ]
     },
     "metadata": {
      "needs_background": "light"
     },
     "output_type": "display_data"
    }
   ],
   "source": [
    "nans = df_clean['description'].apply(lambda x: type(x) == float).astype(int).hist(density=True)"
   ]
  },
  {
   "cell_type": "code",
   "execution_count": 117,
   "metadata": {},
   "outputs": [
    {
     "data": {
      "text/plain": [
       "0.0"
      ]
     },
     "execution_count": 117,
     "metadata": {},
     "output_type": "execute_result"
    }
   ],
   "source": [
    "nans/df_clean.shape[0]"
   ]
  },
  {
   "cell_type": "code",
   "execution_count": 84,
   "metadata": {},
   "outputs": [
    {
     "name": "stdout",
     "output_type": "stream",
     "text": [
      "<class 'pandas.core.frame.DataFrame'>\n",
      "RangeIndex: 117652 entries, 0 to 117651\n",
      "Data columns (total 11 columns):\n",
      " #   Column                  Non-Null Count   Dtype              \n",
      "---  ------                  --------------   -----              \n",
      " 0   tweet_id                117652 non-null  int64              \n",
      " 1   state                   117652 non-null  object             \n",
      " 2   search_term_key         117652 non-null  object             \n",
      " 3   tweet_date_created      117652 non-null  datetime64[ns, UTC]\n",
      " 4   user_id                 117652 non-null  int64              \n",
      " 5   user_date_created       117652 non-null  datetime64[ns, UTC]\n",
      " 6   location                85966 non-null   object             \n",
      " 7   description             99927 non-null   object             \n",
      " 8   user_verified           117652 non-null  bool               \n",
      " 9   tweet_text_wo_mentions  117652 non-null  object             \n",
      " 10  source_text             117652 non-null  object             \n",
      "dtypes: bool(1), datetime64[ns, UTC](2), int64(2), object(6)\n",
      "memory usage: 9.1+ MB\n"
     ]
    }
   ],
   "source": [
    "df_clean.info()unique"
   ]
  },
  {
   "cell_type": "code",
   "execution_count": null,
   "metadata": {},
   "outputs": [],
   "source": []
  }
 ],
 "metadata": {
  "kernelspec": {
   "display_name": "Python 3",
   "language": "python",
   "name": "python3"
  },
  "language_info": {
   "codemirror_mode": {
    "name": "ipython",
    "version": 3
   },
   "file_extension": ".py",
   "mimetype": "text/x-python",
   "name": "python",
   "nbconvert_exporter": "python",
   "pygments_lexer": "ipython3",
   "version": "3.7.6"
  }
 },
 "nbformat": 4,
 "nbformat_minor": 4
}

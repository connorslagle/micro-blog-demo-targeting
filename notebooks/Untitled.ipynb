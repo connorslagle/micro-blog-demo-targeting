{
 "cells": [
  {
   "cell_type": "markdown",
   "metadata": {},
   "source": [
    "# **After cleaning**"
   ]
  },
  {
   "cell_type": "code",
   "execution_count": 1,
   "metadata": {},
   "outputs": [],
   "source": [
    "import pandas as pd\n",
    "import numpy as np\n",
    "import matplotlib.pyplot as plt\n",
    "plt.rcParams.update({'font.size':18})"
   ]
  },
  {
   "cell_type": "code",
   "execution_count": 2,
   "metadata": {},
   "outputs": [],
   "source": [
    "import pyspark as ps\n",
    "import pandas as pd\n",
    "from pyspark.sql.functions import lit"
   ]
  },
  {
   "cell_type": "code",
   "execution_count": 10,
   "metadata": {},
   "outputs": [
    {
     "data": {
      "text/html": [
       "<div>\n",
       "<style scoped>\n",
       "    .dataframe tbody tr th:only-of-type {\n",
       "        vertical-align: middle;\n",
       "    }\n",
       "\n",
       "    .dataframe tbody tr th {\n",
       "        vertical-align: top;\n",
       "    }\n",
       "\n",
       "    .dataframe thead th {\n",
       "        text-align: right;\n",
       "    }\n",
       "</style>\n",
       "<table border=\"1\" class=\"dataframe\">\n",
       "  <thead>\n",
       "    <tr style=\"text-align: right;\">\n",
       "      <th></th>\n",
       "      <th>tweet_id</th>\n",
       "      <th>state</th>\n",
       "      <th>search_term_key</th>\n",
       "      <th>tweet_date_created</th>\n",
       "      <th>user_id</th>\n",
       "      <th>user_date_created</th>\n",
       "      <th>location</th>\n",
       "      <th>description</th>\n",
       "      <th>user_verified</th>\n",
       "      <th>tweet_text_wo_mentions</th>\n",
       "      <th>source_text</th>\n",
       "    </tr>\n",
       "  </thead>\n",
       "  <tbody>\n",
       "    <tr>\n",
       "      <th>0</th>\n",
       "      <td>1246830993903955968</td>\n",
       "      <td>AR</td>\n",
       "      <td>@joebiden</td>\n",
       "      <td>2020-04-05 16:04:08+00:00</td>\n",
       "      <td>29214401</td>\n",
       "      <td>2009-04-06 14:53:51+00:00</td>\n",
       "      <td>NaN</td>\n",
       "      <td>The son of Rage and Love</td>\n",
       "      <td>False</td>\n",
       "      <td>lil pump really said \"look at my wrist corona ...</td>\n",
       "      <td>Twitter for Android</td>\n",
       "    </tr>\n",
       "    <tr>\n",
       "      <th>1</th>\n",
       "      <td>1246830994537222144</td>\n",
       "      <td>AR</td>\n",
       "      <td>@joebiden</td>\n",
       "      <td>2020-04-05 16:04:08+00:00</td>\n",
       "      <td>4766479674</td>\n",
       "      <td>2016-01-16 04:42:14+00:00</td>\n",
       "      <td>geohell, disneyworld</td>\n",
       "      <td>i'm a fully automated toilet</td>\n",
       "      <td>False</td>\n",
       "      <td>@Stephan59177054 @NomikiKonst @JoeBiden I thou...</td>\n",
       "      <td>Twitter for Android</td>\n",
       "    </tr>\n",
       "    <tr>\n",
       "      <th>2</th>\n",
       "      <td>1246830995132813312</td>\n",
       "      <td>AR</td>\n",
       "      <td>@joebiden</td>\n",
       "      <td>2020-04-05 16:04:08+00:00</td>\n",
       "      <td>3166145611</td>\n",
       "      <td>2015-04-21 02:02:20+00:00</td>\n",
       "      <td>NaN</td>\n",
       "      <td>Trump supporter! I follow back all Patriots.  ...</td>\n",
       "      <td>False</td>\n",
       "      <td>RT @Jali_Cat: Yet you’ve been in office since ...</td>\n",
       "      <td>Twitter Web App</td>\n",
       "    </tr>\n",
       "    <tr>\n",
       "      <th>3</th>\n",
       "      <td>1246830995761963008</td>\n",
       "      <td>AR</td>\n",
       "      <td>@joebiden</td>\n",
       "      <td>2020-04-05 16:04:09+00:00</td>\n",
       "      <td>2868989345</td>\n",
       "      <td>2014-11-09 14:12:09+00:00</td>\n",
       "      <td>North Huntingdon, PA</td>\n",
       "      <td>NaN</td>\n",
       "      <td>False</td>\n",
       "      <td>@JoeBiden This is a better message and more co...</td>\n",
       "      <td>Twitter for iPad</td>\n",
       "    </tr>\n",
       "    <tr>\n",
       "      <th>4</th>\n",
       "      <td>1246830995795369984</td>\n",
       "      <td>AR</td>\n",
       "      <td>@joebiden</td>\n",
       "      <td>2020-04-05 16:04:09+00:00</td>\n",
       "      <td>91865200</td>\n",
       "      <td>2009-11-22 20:47:43+00:00</td>\n",
       "      <td>Colorado</td>\n",
       "      <td>#the Resistance🇱🇷</td>\n",
       "      <td>False</td>\n",
       "      <td>RT @KaivanShroff: “I think it’s close to crimi...</td>\n",
       "      <td>Twitter for iPhone</td>\n",
       "    </tr>\n",
       "  </tbody>\n",
       "</table>\n",
       "</div>"
      ],
      "text/plain": [
       "              tweet_id state search_term_key        tweet_date_created  \\\n",
       "0  1246830993903955968    AR       @joebiden 2020-04-05 16:04:08+00:00   \n",
       "1  1246830994537222144    AR       @joebiden 2020-04-05 16:04:08+00:00   \n",
       "2  1246830995132813312    AR       @joebiden 2020-04-05 16:04:08+00:00   \n",
       "3  1246830995761963008    AR       @joebiden 2020-04-05 16:04:09+00:00   \n",
       "4  1246830995795369984    AR       @joebiden 2020-04-05 16:04:09+00:00   \n",
       "\n",
       "      user_id         user_date_created              location  \\\n",
       "0    29214401 2009-04-06 14:53:51+00:00                   NaN   \n",
       "1  4766479674 2016-01-16 04:42:14+00:00  geohell, disneyworld   \n",
       "2  3166145611 2015-04-21 02:02:20+00:00                   NaN   \n",
       "3  2868989345 2014-11-09 14:12:09+00:00  North Huntingdon, PA   \n",
       "4    91865200 2009-11-22 20:47:43+00:00              Colorado   \n",
       "\n",
       "                                         description  user_verified  \\\n",
       "0                           The son of Rage and Love          False   \n",
       "1                       i'm a fully automated toilet          False   \n",
       "2  Trump supporter! I follow back all Patriots.  ...          False   \n",
       "3                                                NaN          False   \n",
       "4                                  #the Resistance🇱🇷          False   \n",
       "\n",
       "                              tweet_text_wo_mentions          source_text  \n",
       "0  lil pump really said \"look at my wrist corona ...  Twitter for Android  \n",
       "1  @Stephan59177054 @NomikiKonst @JoeBiden I thou...  Twitter for Android  \n",
       "2  RT @Jali_Cat: Yet you’ve been in office since ...      Twitter Web App  \n",
       "3  @JoeBiden This is a better message and more co...     Twitter for iPad  \n",
       "4  RT @KaivanShroff: “I think it’s close to crimi...   Twitter for iPhone  "
      ]
     },
     "execution_count": 10,
     "metadata": {},
     "output_type": "execute_result"
    }
   ],
   "source": [
    "# look at df created with spark importer\n",
    "\n",
    "df = pd.read_csv('../data/2020-08-11_all_clean.csv', lineterminator='\\n', parse_dates=['tweet_date_created', 'user_date_created'])\n",
    "df.head()"
   ]
  },
  {
   "cell_type": "code",
   "execution_count": 11,
   "metadata": {},
   "outputs": [
    {
     "name": "stdout",
     "output_type": "stream",
     "text": [
      "<class 'pandas.core.frame.DataFrame'>\n",
      "RangeIndex: 117652 entries, 0 to 117651\n",
      "Data columns (total 11 columns):\n",
      " #   Column                  Non-Null Count   Dtype              \n",
      "---  ------                  --------------   -----              \n",
      " 0   tweet_id                117652 non-null  int64              \n",
      " 1   state                   117652 non-null  object             \n",
      " 2   search_term_key         117652 non-null  object             \n",
      " 3   tweet_date_created      117652 non-null  datetime64[ns, UTC]\n",
      " 4   user_id                 117652 non-null  int64              \n",
      " 5   user_date_created       117652 non-null  datetime64[ns, UTC]\n",
      " 6   location                85966 non-null   object             \n",
      " 7   description             99927 non-null   object             \n",
      " 8   user_verified           117652 non-null  bool               \n",
      " 9   tweet_text_wo_mentions  117652 non-null  object             \n",
      " 10  source_text             117652 non-null  object             \n",
      "dtypes: bool(1), datetime64[ns, UTC](2), int64(2), object(6)\n",
      "memory usage: 9.1+ MB\n"
     ]
    }
   ],
   "source": [
    "df.info()"
   ]
  },
  {
   "cell_type": "code",
   "execution_count": 13,
   "metadata": {},
   "outputs": [],
   "source": [
    "acount_age = df['tweet_date_created'] - df['user_date_created']"
   ]
  },
  {
   "cell_type": "code",
   "execution_count": 17,
   "metadata": {},
   "outputs": [
    {
     "ename": "AttributeError",
     "evalue": "'Timedelta' object has no attribute 'day'",
     "output_type": "error",
     "traceback": [
      "\u001b[0;31m---------------------------------------------------------------------------\u001b[0m",
      "\u001b[0;31mAttributeError\u001b[0m                            Traceback (most recent call last)",
      "\u001b[0;32m<ipython-input-17-126ebbc4ad51>\u001b[0m in \u001b[0;36m<module>\u001b[0;34m\u001b[0m\n\u001b[0;32m----> 1\u001b[0;31m \u001b[0macount_age\u001b[0m\u001b[0;34m[\u001b[0m\u001b[0;36m0\u001b[0m\u001b[0;34m]\u001b[0m\u001b[0;34m.\u001b[0m\u001b[0mday\u001b[0m\u001b[0;34m(\u001b[0m\u001b[0;34m)\u001b[0m\u001b[0;34m\u001b[0m\u001b[0;34m\u001b[0m\u001b[0m\n\u001b[0m",
      "\u001b[0;31mAttributeError\u001b[0m: 'Timedelta' object has no attribute 'day'"
     ]
    }
   ],
   "source": [
    "acount_age[0]."
   ]
  },
  {
   "cell_type": "code",
   "execution_count": null,
   "metadata": {},
   "outputs": [],
   "source": []
  }
 ],
 "metadata": {
  "kernelspec": {
   "display_name": "Python 3",
   "language": "python",
   "name": "python3"
  },
  "language_info": {
   "codemirror_mode": {
    "name": "ipython",
    "version": 3
   },
   "file_extension": ".py",
   "mimetype": "text/x-python",
   "name": "python",
   "nbconvert_exporter": "python",
   "pygments_lexer": "ipython3",
   "version": "3.7.6"
  }
 },
 "nbformat": 4,
 "nbformat_minor": 4
}

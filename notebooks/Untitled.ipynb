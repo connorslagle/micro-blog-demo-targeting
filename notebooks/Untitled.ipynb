{
 "cells": [
  {
   "cell_type": "markdown",
   "metadata": {},
   "source": [
    "# **After cleaning**"
   ]
  },
  {
   "cell_type": "code",
   "execution_count": 45,
   "metadata": {},
   "outputs": [],
   "source": [
    "import pandas as pd\n",
    "import numpy as np\n",
    "import matplotlib.pyplot as plt\n",
    "plt.rcParams.update({'font.size':18})"
   ]
  },
  {
   "cell_type": "code",
   "execution_count": 46,
   "metadata": {},
   "outputs": [],
   "source": [
    "import pyspark as ps\n",
    "import pandas as pd\n",
    "from pyspark.sql.functions import lit"
   ]
  },
  {
   "cell_type": "code",
   "execution_count": 47,
   "metadata": {},
   "outputs": [
    {
     "data": {
      "text/html": [
       "<div>\n",
       "<style scoped>\n",
       "    .dataframe tbody tr th:only-of-type {\n",
       "        vertical-align: middle;\n",
       "    }\n",
       "\n",
       "    .dataframe tbody tr th {\n",
       "        vertical-align: top;\n",
       "    }\n",
       "\n",
       "    .dataframe thead th {\n",
       "        text-align: right;\n",
       "    }\n",
       "</style>\n",
       "<table border=\"1\" class=\"dataframe\">\n",
       "  <thead>\n",
       "    <tr style=\"text-align: right;\">\n",
       "      <th></th>\n",
       "      <th>tweet_id</th>\n",
       "      <th>state</th>\n",
       "      <th>search_term_key</th>\n",
       "      <th>tweet_date_created</th>\n",
       "      <th>user_id</th>\n",
       "      <th>user_date_created</th>\n",
       "      <th>location</th>\n",
       "      <th>description</th>\n",
       "      <th>user_verified</th>\n",
       "      <th>tweet_text_wo_mentions</th>\n",
       "      <th>source_text</th>\n",
       "    </tr>\n",
       "  </thead>\n",
       "  <tbody>\n",
       "    <tr>\n",
       "      <th>0</th>\n",
       "      <td>1246830993903955968</td>\n",
       "      <td>AR</td>\n",
       "      <td>@joebiden</td>\n",
       "      <td>2020-04-05 16:04:08+00:00</td>\n",
       "      <td>29214401</td>\n",
       "      <td>2009-04-06 14:53:51+00:00</td>\n",
       "      <td>NaN</td>\n",
       "      <td>The son of Rage and Love</td>\n",
       "      <td>False</td>\n",
       "      <td>lil pump really said \"look at my wrist corona ...</td>\n",
       "      <td>Twitter for Android</td>\n",
       "    </tr>\n",
       "    <tr>\n",
       "      <th>1</th>\n",
       "      <td>1246830994537222144</td>\n",
       "      <td>AR</td>\n",
       "      <td>@joebiden</td>\n",
       "      <td>2020-04-05 16:04:08+00:00</td>\n",
       "      <td>4766479674</td>\n",
       "      <td>2016-01-16 04:42:14+00:00</td>\n",
       "      <td>geohell, disneyworld</td>\n",
       "      <td>i'm a fully automated toilet</td>\n",
       "      <td>False</td>\n",
       "      <td>@Stephan59177054 @NomikiKonst @JoeBiden I thou...</td>\n",
       "      <td>Twitter for Android</td>\n",
       "    </tr>\n",
       "    <tr>\n",
       "      <th>2</th>\n",
       "      <td>1246830995132813312</td>\n",
       "      <td>AR</td>\n",
       "      <td>@joebiden</td>\n",
       "      <td>2020-04-05 16:04:08+00:00</td>\n",
       "      <td>3166145611</td>\n",
       "      <td>2015-04-21 02:02:20+00:00</td>\n",
       "      <td>NaN</td>\n",
       "      <td>Trump supporter! I follow back all Patriots.  ...</td>\n",
       "      <td>False</td>\n",
       "      <td>RT @Jali_Cat: Yet you’ve been in office since ...</td>\n",
       "      <td>Twitter Web App</td>\n",
       "    </tr>\n",
       "    <tr>\n",
       "      <th>3</th>\n",
       "      <td>1246830995761963008</td>\n",
       "      <td>AR</td>\n",
       "      <td>@joebiden</td>\n",
       "      <td>2020-04-05 16:04:09+00:00</td>\n",
       "      <td>2868989345</td>\n",
       "      <td>2014-11-09 14:12:09+00:00</td>\n",
       "      <td>North Huntingdon, PA</td>\n",
       "      <td>NaN</td>\n",
       "      <td>False</td>\n",
       "      <td>@JoeBiden This is a better message and more co...</td>\n",
       "      <td>Twitter for iPad</td>\n",
       "    </tr>\n",
       "    <tr>\n",
       "      <th>4</th>\n",
       "      <td>1246830995795369984</td>\n",
       "      <td>AR</td>\n",
       "      <td>@joebiden</td>\n",
       "      <td>2020-04-05 16:04:09+00:00</td>\n",
       "      <td>91865200</td>\n",
       "      <td>2009-11-22 20:47:43+00:00</td>\n",
       "      <td>Colorado</td>\n",
       "      <td>#the Resistance🇱🇷</td>\n",
       "      <td>False</td>\n",
       "      <td>RT @KaivanShroff: “I think it’s close to crimi...</td>\n",
       "      <td>Twitter for iPhone</td>\n",
       "    </tr>\n",
       "  </tbody>\n",
       "</table>\n",
       "</div>"
      ],
      "text/plain": [
       "              tweet_id state search_term_key        tweet_date_created  \\\n",
       "0  1246830993903955968    AR       @joebiden 2020-04-05 16:04:08+00:00   \n",
       "1  1246830994537222144    AR       @joebiden 2020-04-05 16:04:08+00:00   \n",
       "2  1246830995132813312    AR       @joebiden 2020-04-05 16:04:08+00:00   \n",
       "3  1246830995761963008    AR       @joebiden 2020-04-05 16:04:09+00:00   \n",
       "4  1246830995795369984    AR       @joebiden 2020-04-05 16:04:09+00:00   \n",
       "\n",
       "      user_id         user_date_created              location  \\\n",
       "0    29214401 2009-04-06 14:53:51+00:00                   NaN   \n",
       "1  4766479674 2016-01-16 04:42:14+00:00  geohell, disneyworld   \n",
       "2  3166145611 2015-04-21 02:02:20+00:00                   NaN   \n",
       "3  2868989345 2014-11-09 14:12:09+00:00  North Huntingdon, PA   \n",
       "4    91865200 2009-11-22 20:47:43+00:00              Colorado   \n",
       "\n",
       "                                         description  user_verified  \\\n",
       "0                           The son of Rage and Love          False   \n",
       "1                       i'm a fully automated toilet          False   \n",
       "2  Trump supporter! I follow back all Patriots.  ...          False   \n",
       "3                                                NaN          False   \n",
       "4                                  #the Resistance🇱🇷          False   \n",
       "\n",
       "                              tweet_text_wo_mentions          source_text  \n",
       "0  lil pump really said \"look at my wrist corona ...  Twitter for Android  \n",
       "1  @Stephan59177054 @NomikiKonst @JoeBiden I thou...  Twitter for Android  \n",
       "2  RT @Jali_Cat: Yet you’ve been in office since ...      Twitter Web App  \n",
       "3  @JoeBiden This is a better message and more co...     Twitter for iPad  \n",
       "4  RT @KaivanShroff: “I think it’s close to crimi...   Twitter for iPhone  "
      ]
     },
     "execution_count": 47,
     "metadata": {},
     "output_type": "execute_result"
    }
   ],
   "source": [
    "# look at df created with spark importer\n",
    "\n",
    "df = pd.read_csv('../data/2020-08-11_all_clean.csv', lineterminator='\\n', parse_dates=['tweet_date_created', 'user_date_created'])\n",
    "df.head()"
   ]
  },
  {
   "cell_type": "code",
   "execution_count": 48,
   "metadata": {},
   "outputs": [
    {
     "name": "stdout",
     "output_type": "stream",
     "text": [
      "<class 'pandas.core.frame.DataFrame'>\n",
      "RangeIndex: 117652 entries, 0 to 117651\n",
      "Data columns (total 11 columns):\n",
      " #   Column                  Non-Null Count   Dtype              \n",
      "---  ------                  --------------   -----              \n",
      " 0   tweet_id                117652 non-null  int64              \n",
      " 1   state                   117652 non-null  object             \n",
      " 2   search_term_key         117652 non-null  object             \n",
      " 3   tweet_date_created      117652 non-null  datetime64[ns, UTC]\n",
      " 4   user_id                 117652 non-null  int64              \n",
      " 5   user_date_created       117652 non-null  datetime64[ns, UTC]\n",
      " 6   location                85966 non-null   object             \n",
      " 7   description             99927 non-null   object             \n",
      " 8   user_verified           117652 non-null  bool               \n",
      " 9   tweet_text_wo_mentions  117652 non-null  object             \n",
      " 10  source_text             117652 non-null  object             \n",
      "dtypes: bool(1), datetime64[ns, UTC](2), int64(2), object(6)\n",
      "memory usage: 9.1+ MB\n"
     ]
    }
   ],
   "source": [
    "df.info()"
   ]
  },
  {
   "cell_type": "code",
   "execution_count": 49,
   "metadata": {},
   "outputs": [],
   "source": [
    "import re"
   ]
  },
  {
   "cell_type": "code",
   "execution_count": 50,
   "metadata": {},
   "outputs": [],
   "source": [
    "tweet_text = df['tweet_text_wo_mentions']"
   ]
  },
  {
   "cell_type": "code",
   "execution_count": 51,
   "metadata": {},
   "outputs": [],
   "source": [
    "retweet_regex = \"^RT @\"\n",
    "mentions_regex = \"^@\"\n",
    "\n",
    "retweets = [tweet for tweet in tweet_text if re.search(retweet_regex, tweet)]"
   ]
  },
  {
   "cell_type": "code",
   "execution_count": 52,
   "metadata": {},
   "outputs": [
    {
     "data": {
      "text/plain": [
       "39692"
      ]
     },
     "execution_count": 52,
     "metadata": {},
     "output_type": "execute_result"
    }
   ],
   "source": [
    "len(retweets)"
   ]
  },
  {
   "cell_type": "code",
   "execution_count": 53,
   "metadata": {},
   "outputs": [
    {
     "data": {
      "text/plain": [
       "117652"
      ]
     },
     "execution_count": 53,
     "metadata": {},
     "output_type": "execute_result"
    }
   ],
   "source": [
    "len(tweet_text)"
   ]
  },
  {
   "cell_type": "code",
   "execution_count": 54,
   "metadata": {},
   "outputs": [
    {
     "data": {
      "text/plain": [
       "0.33736783055111685"
      ]
     },
     "execution_count": 54,
     "metadata": {},
     "output_type": "execute_result"
    }
   ],
   "source": [
    "len(retweets)/len(tweet_text)"
   ]
  },
  {
   "cell_type": "code",
   "execution_count": 55,
   "metadata": {},
   "outputs": [
    {
     "data": {
      "text/html": [
       "<div>\n",
       "<style scoped>\n",
       "    .dataframe tbody tr th:only-of-type {\n",
       "        vertical-align: middle;\n",
       "    }\n",
       "\n",
       "    .dataframe tbody tr th {\n",
       "        vertical-align: top;\n",
       "    }\n",
       "\n",
       "    .dataframe thead th {\n",
       "        text-align: right;\n",
       "    }\n",
       "</style>\n",
       "<table border=\"1\" class=\"dataframe\">\n",
       "  <thead>\n",
       "    <tr style=\"text-align: right;\">\n",
       "      <th></th>\n",
       "      <th>tweet_id</th>\n",
       "      <th>state</th>\n",
       "      <th>search_term_key</th>\n",
       "      <th>tweet_date_created</th>\n",
       "      <th>user_id</th>\n",
       "      <th>user_date_created</th>\n",
       "      <th>location</th>\n",
       "      <th>description</th>\n",
       "      <th>user_verified</th>\n",
       "      <th>tweet_text_wo_mentions</th>\n",
       "      <th>source_text</th>\n",
       "      <th>is_rt</th>\n",
       "    </tr>\n",
       "  </thead>\n",
       "  <tbody>\n",
       "    <tr>\n",
       "      <th>0</th>\n",
       "      <td>1246830993903955968</td>\n",
       "      <td>AR</td>\n",
       "      <td>@joebiden</td>\n",
       "      <td>2020-04-05 16:04:08+00:00</td>\n",
       "      <td>29214401</td>\n",
       "      <td>2009-04-06 14:53:51+00:00</td>\n",
       "      <td>NaN</td>\n",
       "      <td>The son of Rage and Love</td>\n",
       "      <td>False</td>\n",
       "      <td>lil pump really said \"look at my wrist corona ...</td>\n",
       "      <td>Twitter for Android</td>\n",
       "      <td>False</td>\n",
       "    </tr>\n",
       "    <tr>\n",
       "      <th>1</th>\n",
       "      <td>1246830994537222144</td>\n",
       "      <td>AR</td>\n",
       "      <td>@joebiden</td>\n",
       "      <td>2020-04-05 16:04:08+00:00</td>\n",
       "      <td>4766479674</td>\n",
       "      <td>2016-01-16 04:42:14+00:00</td>\n",
       "      <td>geohell, disneyworld</td>\n",
       "      <td>i'm a fully automated toilet</td>\n",
       "      <td>False</td>\n",
       "      <td>@Stephan59177054 @NomikiKonst @JoeBiden I thou...</td>\n",
       "      <td>Twitter for Android</td>\n",
       "      <td>False</td>\n",
       "    </tr>\n",
       "    <tr>\n",
       "      <th>2</th>\n",
       "      <td>1246830995132813312</td>\n",
       "      <td>AR</td>\n",
       "      <td>@joebiden</td>\n",
       "      <td>2020-04-05 16:04:08+00:00</td>\n",
       "      <td>3166145611</td>\n",
       "      <td>2015-04-21 02:02:20+00:00</td>\n",
       "      <td>NaN</td>\n",
       "      <td>Trump supporter! I follow back all Patriots.  ...</td>\n",
       "      <td>False</td>\n",
       "      <td>RT @Jali_Cat: Yet you’ve been in office since ...</td>\n",
       "      <td>Twitter Web App</td>\n",
       "      <td>True</td>\n",
       "    </tr>\n",
       "    <tr>\n",
       "      <th>3</th>\n",
       "      <td>1246830995761963008</td>\n",
       "      <td>AR</td>\n",
       "      <td>@joebiden</td>\n",
       "      <td>2020-04-05 16:04:09+00:00</td>\n",
       "      <td>2868989345</td>\n",
       "      <td>2014-11-09 14:12:09+00:00</td>\n",
       "      <td>North Huntingdon, PA</td>\n",
       "      <td>NaN</td>\n",
       "      <td>False</td>\n",
       "      <td>@JoeBiden This is a better message and more co...</td>\n",
       "      <td>Twitter for iPad</td>\n",
       "      <td>False</td>\n",
       "    </tr>\n",
       "    <tr>\n",
       "      <th>4</th>\n",
       "      <td>1246830995795369984</td>\n",
       "      <td>AR</td>\n",
       "      <td>@joebiden</td>\n",
       "      <td>2020-04-05 16:04:09+00:00</td>\n",
       "      <td>91865200</td>\n",
       "      <td>2009-11-22 20:47:43+00:00</td>\n",
       "      <td>Colorado</td>\n",
       "      <td>#the Resistance🇱🇷</td>\n",
       "      <td>False</td>\n",
       "      <td>RT @KaivanShroff: “I think it’s close to crimi...</td>\n",
       "      <td>Twitter for iPhone</td>\n",
       "      <td>True</td>\n",
       "    </tr>\n",
       "  </tbody>\n",
       "</table>\n",
       "</div>"
      ],
      "text/plain": [
       "              tweet_id state search_term_key        tweet_date_created  \\\n",
       "0  1246830993903955968    AR       @joebiden 2020-04-05 16:04:08+00:00   \n",
       "1  1246830994537222144    AR       @joebiden 2020-04-05 16:04:08+00:00   \n",
       "2  1246830995132813312    AR       @joebiden 2020-04-05 16:04:08+00:00   \n",
       "3  1246830995761963008    AR       @joebiden 2020-04-05 16:04:09+00:00   \n",
       "4  1246830995795369984    AR       @joebiden 2020-04-05 16:04:09+00:00   \n",
       "\n",
       "      user_id         user_date_created              location  \\\n",
       "0    29214401 2009-04-06 14:53:51+00:00                   NaN   \n",
       "1  4766479674 2016-01-16 04:42:14+00:00  geohell, disneyworld   \n",
       "2  3166145611 2015-04-21 02:02:20+00:00                   NaN   \n",
       "3  2868989345 2014-11-09 14:12:09+00:00  North Huntingdon, PA   \n",
       "4    91865200 2009-11-22 20:47:43+00:00              Colorado   \n",
       "\n",
       "                                         description  user_verified  \\\n",
       "0                           The son of Rage and Love          False   \n",
       "1                       i'm a fully automated toilet          False   \n",
       "2  Trump supporter! I follow back all Patriots.  ...          False   \n",
       "3                                                NaN          False   \n",
       "4                                  #the Resistance🇱🇷          False   \n",
       "\n",
       "                              tweet_text_wo_mentions          source_text  \\\n",
       "0  lil pump really said \"look at my wrist corona ...  Twitter for Android   \n",
       "1  @Stephan59177054 @NomikiKonst @JoeBiden I thou...  Twitter for Android   \n",
       "2  RT @Jali_Cat: Yet you’ve been in office since ...      Twitter Web App   \n",
       "3  @JoeBiden This is a better message and more co...     Twitter for iPad   \n",
       "4  RT @KaivanShroff: “I think it’s close to crimi...   Twitter for iPhone   \n",
       "\n",
       "   is_rt  \n",
       "0  False  \n",
       "1  False  \n",
       "2   True  \n",
       "3  False  \n",
       "4   True  "
      ]
     },
     "execution_count": 55,
     "metadata": {},
     "output_type": "execute_result"
    }
   ],
   "source": [
    "df['is_rt'] = [True if re.search(retweet_regex, tweet) else False for tweet in tweet_text]\n",
    "df.head()"
   ]
  },
  {
   "cell_type": "code",
   "execution_count": 56,
   "metadata": {},
   "outputs": [
    {
     "data": {
      "text/plain": [
       "array(['AR', 'CO', 'OR'], dtype=object)"
      ]
     },
     "execution_count": 56,
     "metadata": {},
     "output_type": "execute_result"
    }
   ],
   "source": [
    "df['state'].unique()"
   ]
  },
  {
   "cell_type": "code",
   "execution_count": 57,
   "metadata": {},
   "outputs": [],
   "source": [
    "# create dicts for target encoding\n",
    "state_dict = {'AR':1, 'CO':2, 'OR':3}\n",
    "term_dict = {'@joebiden':1, '@joebiden_#COVID19':2, '#COVID19':3, '@realdonaldtrump_#COVID19':4, '@realdonaldtrump':5}\n",
    "\n",
    "df.replace({'state': state_dict, 'search_term_key': term_dict}, inplace=True)\n"
   ]
  },
  {
   "cell_type": "code",
   "execution_count": 58,
   "metadata": {},
   "outputs": [
    {
     "data": {
      "text/html": [
       "<div>\n",
       "<style scoped>\n",
       "    .dataframe tbody tr th:only-of-type {\n",
       "        vertical-align: middle;\n",
       "    }\n",
       "\n",
       "    .dataframe tbody tr th {\n",
       "        vertical-align: top;\n",
       "    }\n",
       "\n",
       "    .dataframe thead th {\n",
       "        text-align: right;\n",
       "    }\n",
       "</style>\n",
       "<table border=\"1\" class=\"dataframe\">\n",
       "  <thead>\n",
       "    <tr style=\"text-align: right;\">\n",
       "      <th></th>\n",
       "      <th>state</th>\n",
       "      <th>search_term_key</th>\n",
       "      <th>user_date_created</th>\n",
       "      <th>description</th>\n",
       "      <th>user_verified</th>\n",
       "      <th>tweet_text_wo_mentions</th>\n",
       "      <th>source_text</th>\n",
       "      <th>is_rt</th>\n",
       "    </tr>\n",
       "  </thead>\n",
       "  <tbody>\n",
       "    <tr>\n",
       "      <th>0</th>\n",
       "      <td>1</td>\n",
       "      <td>1</td>\n",
       "      <td>2009-04-06 14:53:51+00:00</td>\n",
       "      <td>The son of Rage and Love</td>\n",
       "      <td>False</td>\n",
       "      <td>lil pump really said \"look at my wrist corona ...</td>\n",
       "      <td>Twitter for Android</td>\n",
       "      <td>False</td>\n",
       "    </tr>\n",
       "    <tr>\n",
       "      <th>1</th>\n",
       "      <td>1</td>\n",
       "      <td>1</td>\n",
       "      <td>2016-01-16 04:42:14+00:00</td>\n",
       "      <td>i'm a fully automated toilet</td>\n",
       "      <td>False</td>\n",
       "      <td>@Stephan59177054 @NomikiKonst @JoeBiden I thou...</td>\n",
       "      <td>Twitter for Android</td>\n",
       "      <td>False</td>\n",
       "    </tr>\n",
       "    <tr>\n",
       "      <th>2</th>\n",
       "      <td>1</td>\n",
       "      <td>1</td>\n",
       "      <td>2015-04-21 02:02:20+00:00</td>\n",
       "      <td>Trump supporter! I follow back all Patriots.  ...</td>\n",
       "      <td>False</td>\n",
       "      <td>RT @Jali_Cat: Yet you’ve been in office since ...</td>\n",
       "      <td>Twitter Web App</td>\n",
       "      <td>True</td>\n",
       "    </tr>\n",
       "    <tr>\n",
       "      <th>3</th>\n",
       "      <td>1</td>\n",
       "      <td>1</td>\n",
       "      <td>2014-11-09 14:12:09+00:00</td>\n",
       "      <td>NaN</td>\n",
       "      <td>False</td>\n",
       "      <td>@JoeBiden This is a better message and more co...</td>\n",
       "      <td>Twitter for iPad</td>\n",
       "      <td>False</td>\n",
       "    </tr>\n",
       "    <tr>\n",
       "      <th>4</th>\n",
       "      <td>1</td>\n",
       "      <td>1</td>\n",
       "      <td>2009-11-22 20:47:43+00:00</td>\n",
       "      <td>#the Resistance🇱🇷</td>\n",
       "      <td>False</td>\n",
       "      <td>RT @KaivanShroff: “I think it’s close to crimi...</td>\n",
       "      <td>Twitter for iPhone</td>\n",
       "      <td>True</td>\n",
       "    </tr>\n",
       "  </tbody>\n",
       "</table>\n",
       "</div>"
      ],
      "text/plain": [
       "   state  search_term_key         user_date_created  \\\n",
       "0      1                1 2009-04-06 14:53:51+00:00   \n",
       "1      1                1 2016-01-16 04:42:14+00:00   \n",
       "2      1                1 2015-04-21 02:02:20+00:00   \n",
       "3      1                1 2014-11-09 14:12:09+00:00   \n",
       "4      1                1 2009-11-22 20:47:43+00:00   \n",
       "\n",
       "                                         description  user_verified  \\\n",
       "0                           The son of Rage and Love          False   \n",
       "1                       i'm a fully automated toilet          False   \n",
       "2  Trump supporter! I follow back all Patriots.  ...          False   \n",
       "3                                                NaN          False   \n",
       "4                                  #the Resistance🇱🇷          False   \n",
       "\n",
       "                              tweet_text_wo_mentions          source_text  \\\n",
       "0  lil pump really said \"look at my wrist corona ...  Twitter for Android   \n",
       "1  @Stephan59177054 @NomikiKonst @JoeBiden I thou...  Twitter for Android   \n",
       "2  RT @Jali_Cat: Yet you’ve been in office since ...      Twitter Web App   \n",
       "3  @JoeBiden This is a better message and more co...     Twitter for iPad   \n",
       "4  RT @KaivanShroff: “I think it’s close to crimi...   Twitter for iPhone   \n",
       "\n",
       "   is_rt  \n",
       "0  False  \n",
       "1  False  \n",
       "2   True  \n",
       "3  False  \n",
       "4   True  "
      ]
     },
     "execution_count": 58,
     "metadata": {},
     "output_type": "execute_result"
    }
   ],
   "source": [
    "# create X matrix, drop cols\n",
    "drop_cols = ['tweet_id', 'tweet_date_created', 'user_id', 'location']\n",
    "new_df = df.drop(drop_cols, axis=1)\n",
    "new_df.head()"
   ]
  },
  {
   "cell_type": "code",
   "execution_count": 59,
   "metadata": {},
   "outputs": [
    {
     "name": "stdout",
     "output_type": "stream",
     "text": [
      "<class 'pandas.core.frame.DataFrame'>\n",
      "RangeIndex: 117652 entries, 0 to 117651\n",
      "Data columns (total 8 columns):\n",
      " #   Column                  Non-Null Count   Dtype              \n",
      "---  ------                  --------------   -----              \n",
      " 0   state                   117652 non-null  int64              \n",
      " 1   search_term_key         117652 non-null  int64              \n",
      " 2   user_date_created       117652 non-null  datetime64[ns, UTC]\n",
      " 3   description             99927 non-null   object             \n",
      " 4   user_verified           117652 non-null  bool               \n",
      " 5   tweet_text_wo_mentions  117652 non-null  object             \n",
      " 6   source_text             117652 non-null  object             \n",
      " 7   is_rt                   117652 non-null  bool               \n",
      "dtypes: bool(2), datetime64[ns, UTC](1), int64(2), object(3)\n",
      "memory usage: 5.6+ MB\n"
     ]
    }
   ],
   "source": [
    "new_df.info()"
   ]
  },
  {
   "cell_type": "code",
   "execution_count": 62,
   "metadata": {},
   "outputs": [
    {
     "name": "stdout",
     "output_type": "stream",
     "text": [
      "<class 'pandas.core.frame.DataFrame'>\n",
      "Int64Index: 99927 entries, 0 to 117651\n",
      "Data columns (total 8 columns):\n",
      " #   Column                  Non-Null Count  Dtype              \n",
      "---  ------                  --------------  -----              \n",
      " 0   state                   99927 non-null  int64              \n",
      " 1   search_term_key         99927 non-null  int64              \n",
      " 2   user_date_created       99927 non-null  datetime64[ns, UTC]\n",
      " 3   description             99927 non-null  object             \n",
      " 4   user_verified           99927 non-null  bool               \n",
      " 5   tweet_text_wo_mentions  99927 non-null  object             \n",
      " 6   source_text             99927 non-null  object             \n",
      " 7   is_rt                   99927 non-null  bool               \n",
      "dtypes: bool(2), datetime64[ns, UTC](1), int64(2), object(3)\n",
      "memory usage: 5.5+ MB\n"
     ]
    }
   ],
   "source": [
    "# must have usr desc for text analysis\n",
    "new_df = new_df.dropna()\n",
    "new_df.info()"
   ]
  },
  {
   "cell_type": "code",
   "execution_count": 63,
   "metadata": {},
   "outputs": [
    {
     "data": {
      "text/html": [
       "<div>\n",
       "<style scoped>\n",
       "    .dataframe tbody tr th:only-of-type {\n",
       "        vertical-align: middle;\n",
       "    }\n",
       "\n",
       "    .dataframe tbody tr th {\n",
       "        vertical-align: top;\n",
       "    }\n",
       "\n",
       "    .dataframe thead th {\n",
       "        text-align: right;\n",
       "    }\n",
       "</style>\n",
       "<table border=\"1\" class=\"dataframe\">\n",
       "  <thead>\n",
       "    <tr style=\"text-align: right;\">\n",
       "      <th></th>\n",
       "      <th>state</th>\n",
       "      <th>search_term_key</th>\n",
       "    </tr>\n",
       "  </thead>\n",
       "  <tbody>\n",
       "    <tr>\n",
       "      <th>0</th>\n",
       "      <td>1</td>\n",
       "      <td>1</td>\n",
       "    </tr>\n",
       "    <tr>\n",
       "      <th>1</th>\n",
       "      <td>1</td>\n",
       "      <td>1</td>\n",
       "    </tr>\n",
       "    <tr>\n",
       "      <th>2</th>\n",
       "      <td>1</td>\n",
       "      <td>1</td>\n",
       "    </tr>\n",
       "    <tr>\n",
       "      <th>4</th>\n",
       "      <td>1</td>\n",
       "      <td>1</td>\n",
       "    </tr>\n",
       "    <tr>\n",
       "      <th>5</th>\n",
       "      <td>1</td>\n",
       "      <td>1</td>\n",
       "    </tr>\n",
       "    <tr>\n",
       "      <th>...</th>\n",
       "      <td>...</td>\n",
       "      <td>...</td>\n",
       "    </tr>\n",
       "    <tr>\n",
       "      <th>117647</th>\n",
       "      <td>3</td>\n",
       "      <td>5</td>\n",
       "    </tr>\n",
       "    <tr>\n",
       "      <th>117648</th>\n",
       "      <td>3</td>\n",
       "      <td>5</td>\n",
       "    </tr>\n",
       "    <tr>\n",
       "      <th>117649</th>\n",
       "      <td>3</td>\n",
       "      <td>5</td>\n",
       "    </tr>\n",
       "    <tr>\n",
       "      <th>117650</th>\n",
       "      <td>3</td>\n",
       "      <td>5</td>\n",
       "    </tr>\n",
       "    <tr>\n",
       "      <th>117651</th>\n",
       "      <td>3</td>\n",
       "      <td>5</td>\n",
       "    </tr>\n",
       "  </tbody>\n",
       "</table>\n",
       "<p>99927 rows × 2 columns</p>\n",
       "</div>"
      ],
      "text/plain": [
       "        state  search_term_key\n",
       "0           1                1\n",
       "1           1                1\n",
       "2           1                1\n",
       "4           1                1\n",
       "5           1                1\n",
       "...       ...              ...\n",
       "117647      3                5\n",
       "117648      3                5\n",
       "117649      3                5\n",
       "117650      3                5\n",
       "117651      3                5\n",
       "\n",
       "[99927 rows x 2 columns]"
      ]
     },
     "execution_count": 63,
     "metadata": {},
     "output_type": "execute_result"
    }
   ],
   "source": [
    "targets = new_df[['state','search_term_key']]\n",
    "targets"
   ]
  },
  {
   "cell_type": "code",
   "execution_count": 64,
   "metadata": {},
   "outputs": [
    {
     "data": {
      "text/html": [
       "<div>\n",
       "<style scoped>\n",
       "    .dataframe tbody tr th:only-of-type {\n",
       "        vertical-align: middle;\n",
       "    }\n",
       "\n",
       "    .dataframe tbody tr th {\n",
       "        vertical-align: top;\n",
       "    }\n",
       "\n",
       "    .dataframe thead th {\n",
       "        text-align: right;\n",
       "    }\n",
       "</style>\n",
       "<table border=\"1\" class=\"dataframe\">\n",
       "  <thead>\n",
       "    <tr style=\"text-align: right;\">\n",
       "      <th></th>\n",
       "      <th>state</th>\n",
       "      <th>search_term_key</th>\n",
       "      <th>user_date_created</th>\n",
       "      <th>description</th>\n",
       "      <th>user_verified</th>\n",
       "      <th>tweet_text_wo_mentions</th>\n",
       "      <th>is_rt</th>\n",
       "    </tr>\n",
       "    <tr>\n",
       "      <th>source_text</th>\n",
       "      <th></th>\n",
       "      <th></th>\n",
       "      <th></th>\n",
       "      <th></th>\n",
       "      <th></th>\n",
       "      <th></th>\n",
       "      <th></th>\n",
       "    </tr>\n",
       "  </thead>\n",
       "  <tbody>\n",
       "    <tr>\n",
       "      <th>Twitter for iPhone</th>\n",
       "      <td>51616</td>\n",
       "      <td>51616</td>\n",
       "      <td>51616</td>\n",
       "      <td>51616</td>\n",
       "      <td>51616</td>\n",
       "      <td>51616</td>\n",
       "      <td>51616</td>\n",
       "    </tr>\n",
       "    <tr>\n",
       "      <th>Twitter for Android</th>\n",
       "      <td>25778</td>\n",
       "      <td>25778</td>\n",
       "      <td>25778</td>\n",
       "      <td>25778</td>\n",
       "      <td>25778</td>\n",
       "      <td>25778</td>\n",
       "      <td>25778</td>\n",
       "    </tr>\n",
       "    <tr>\n",
       "      <th>Twitter Web App</th>\n",
       "      <td>12736</td>\n",
       "      <td>12736</td>\n",
       "      <td>12736</td>\n",
       "      <td>12736</td>\n",
       "      <td>12736</td>\n",
       "      <td>12736</td>\n",
       "      <td>12736</td>\n",
       "    </tr>\n",
       "    <tr>\n",
       "      <th>Twitter for iPad</th>\n",
       "      <td>4019</td>\n",
       "      <td>4019</td>\n",
       "      <td>4019</td>\n",
       "      <td>4019</td>\n",
       "      <td>4019</td>\n",
       "      <td>4019</td>\n",
       "      <td>4019</td>\n",
       "    </tr>\n",
       "    <tr>\n",
       "      <th>Instagram</th>\n",
       "      <td>1656</td>\n",
       "      <td>1656</td>\n",
       "      <td>1656</td>\n",
       "      <td>1656</td>\n",
       "      <td>1656</td>\n",
       "      <td>1656</td>\n",
       "      <td>1656</td>\n",
       "    </tr>\n",
       "    <tr>\n",
       "      <th>...</th>\n",
       "      <td>...</td>\n",
       "      <td>...</td>\n",
       "      <td>...</td>\n",
       "      <td>...</td>\n",
       "      <td>...</td>\n",
       "      <td>...</td>\n",
       "      <td>...</td>\n",
       "    </tr>\n",
       "    <tr>\n",
       "      <th>Qilio</th>\n",
       "      <td>1</td>\n",
       "      <td>1</td>\n",
       "      <td>1</td>\n",
       "      <td>1</td>\n",
       "      <td>1</td>\n",
       "      <td>1</td>\n",
       "      <td>1</td>\n",
       "    </tr>\n",
       "    <tr>\n",
       "      <th>RTorthopaedics</th>\n",
       "      <td>1</td>\n",
       "      <td>1</td>\n",
       "      <td>1</td>\n",
       "      <td>1</td>\n",
       "      <td>1</td>\n",
       "      <td>1</td>\n",
       "      <td>1</td>\n",
       "    </tr>\n",
       "    <tr>\n",
       "      <th>Restream.io</th>\n",
       "      <td>1</td>\n",
       "      <td>1</td>\n",
       "      <td>1</td>\n",
       "      <td>1</td>\n",
       "      <td>1</td>\n",
       "      <td>1</td>\n",
       "      <td>1</td>\n",
       "    </tr>\n",
       "    <tr>\n",
       "      <th>Retweet Picker</th>\n",
       "      <td>1</td>\n",
       "      <td>1</td>\n",
       "      <td>1</td>\n",
       "      <td>1</td>\n",
       "      <td>1</td>\n",
       "      <td>1</td>\n",
       "      <td>1</td>\n",
       "    </tr>\n",
       "    <tr>\n",
       "      <th>ツイタマ+ for Android</th>\n",
       "      <td>1</td>\n",
       "      <td>1</td>\n",
       "      <td>1</td>\n",
       "      <td>1</td>\n",
       "      <td>1</td>\n",
       "      <td>1</td>\n",
       "      <td>1</td>\n",
       "    </tr>\n",
       "  </tbody>\n",
       "</table>\n",
       "<p>288 rows × 7 columns</p>\n",
       "</div>"
      ],
      "text/plain": [
       "                     state  search_term_key  user_date_created  description  \\\n",
       "source_text                                                                   \n",
       "Twitter for iPhone   51616            51616              51616        51616   \n",
       "Twitter for Android  25778            25778              25778        25778   \n",
       "Twitter Web App      12736            12736              12736        12736   \n",
       "Twitter for iPad      4019             4019               4019         4019   \n",
       "Instagram             1656             1656               1656         1656   \n",
       "...                    ...              ...                ...          ...   \n",
       "Qilio                    1                1                  1            1   \n",
       "RTorthopaedics           1                1                  1            1   \n",
       "Restream.io              1                1                  1            1   \n",
       "Retweet Picker           1                1                  1            1   \n",
       "ツイタマ+ for Android        1                1                  1            1   \n",
       "\n",
       "                     user_verified  tweet_text_wo_mentions  is_rt  \n",
       "source_text                                                        \n",
       "Twitter for iPhone           51616                   51616  51616  \n",
       "Twitter for Android          25778                   25778  25778  \n",
       "Twitter Web App              12736                   12736  12736  \n",
       "Twitter for iPad              4019                    4019   4019  \n",
       "Instagram                     1656                    1656   1656  \n",
       "...                            ...                     ...    ...  \n",
       "Qilio                            1                       1      1  \n",
       "RTorthopaedics                   1                       1      1  \n",
       "Restream.io                      1                       1      1  \n",
       "Retweet Picker                   1                       1      1  \n",
       "ツイタマ+ for Android                1                       1      1  \n",
       "\n",
       "[288 rows x 7 columns]"
      ]
     },
     "execution_count": 64,
     "metadata": {},
     "output_type": "execute_result"
    }
   ],
   "source": [
    "# one hot encode and change to numeric\n",
    "new_df.groupby('source_text').count().sort_values(by='is_rt',ascending=False)"
   ]
  },
  {
   "cell_type": "code",
   "execution_count": 65,
   "metadata": {},
   "outputs": [
    {
     "data": {
      "text/html": [
       "<div>\n",
       "<style scoped>\n",
       "    .dataframe tbody tr th:only-of-type {\n",
       "        vertical-align: middle;\n",
       "    }\n",
       "\n",
       "    .dataframe tbody tr th {\n",
       "        vertical-align: top;\n",
       "    }\n",
       "\n",
       "    .dataframe thead th {\n",
       "        text-align: right;\n",
       "    }\n",
       "</style>\n",
       "<table border=\"1\" class=\"dataframe\">\n",
       "  <thead>\n",
       "    <tr style=\"text-align: right;\">\n",
       "      <th></th>\n",
       "      <th>state</th>\n",
       "      <th>search_term_key</th>\n",
       "      <th>user_date_created</th>\n",
       "      <th>description</th>\n",
       "      <th>user_verified</th>\n",
       "      <th>tweet_text_wo_mentions</th>\n",
       "      <th>source_text</th>\n",
       "      <th>is_rt</th>\n",
       "      <th>from_iphone</th>\n",
       "    </tr>\n",
       "  </thead>\n",
       "  <tbody>\n",
       "    <tr>\n",
       "      <th>0</th>\n",
       "      <td>1</td>\n",
       "      <td>1</td>\n",
       "      <td>2009-04-06 14:53:51+00:00</td>\n",
       "      <td>The son of Rage and Love</td>\n",
       "      <td>False</td>\n",
       "      <td>lil pump really said \"look at my wrist corona ...</td>\n",
       "      <td>Twitter for Android</td>\n",
       "      <td>False</td>\n",
       "      <td>False</td>\n",
       "    </tr>\n",
       "    <tr>\n",
       "      <th>1</th>\n",
       "      <td>1</td>\n",
       "      <td>1</td>\n",
       "      <td>2016-01-16 04:42:14+00:00</td>\n",
       "      <td>i'm a fully automated toilet</td>\n",
       "      <td>False</td>\n",
       "      <td>@Stephan59177054 @NomikiKonst @JoeBiden I thou...</td>\n",
       "      <td>Twitter for Android</td>\n",
       "      <td>False</td>\n",
       "      <td>False</td>\n",
       "    </tr>\n",
       "    <tr>\n",
       "      <th>2</th>\n",
       "      <td>1</td>\n",
       "      <td>1</td>\n",
       "      <td>2015-04-21 02:02:20+00:00</td>\n",
       "      <td>Trump supporter! I follow back all Patriots.  ...</td>\n",
       "      <td>False</td>\n",
       "      <td>RT @Jali_Cat: Yet you’ve been in office since ...</td>\n",
       "      <td>Twitter Web App</td>\n",
       "      <td>True</td>\n",
       "      <td>False</td>\n",
       "    </tr>\n",
       "    <tr>\n",
       "      <th>4</th>\n",
       "      <td>1</td>\n",
       "      <td>1</td>\n",
       "      <td>2009-11-22 20:47:43+00:00</td>\n",
       "      <td>#the Resistance🇱🇷</td>\n",
       "      <td>False</td>\n",
       "      <td>RT @KaivanShroff: “I think it’s close to crimi...</td>\n",
       "      <td>Twitter for iPhone</td>\n",
       "      <td>True</td>\n",
       "      <td>True</td>\n",
       "    </tr>\n",
       "    <tr>\n",
       "      <th>5</th>\n",
       "      <td>1</td>\n",
       "      <td>1</td>\n",
       "      <td>2015-07-20 19:01:53+00:00</td>\n",
       "      <td>Let me be blunt; #Bernie2020\\n\\n              ...</td>\n",
       "      <td>False</td>\n",
       "      <td>@nickbixby @Michael58918973 @MSpicuzzaMJS @Syk...</td>\n",
       "      <td>Twitter for Android</td>\n",
       "      <td>False</td>\n",
       "      <td>False</td>\n",
       "    </tr>\n",
       "  </tbody>\n",
       "</table>\n",
       "</div>"
      ],
      "text/plain": [
       "   state  search_term_key         user_date_created  \\\n",
       "0      1                1 2009-04-06 14:53:51+00:00   \n",
       "1      1                1 2016-01-16 04:42:14+00:00   \n",
       "2      1                1 2015-04-21 02:02:20+00:00   \n",
       "4      1                1 2009-11-22 20:47:43+00:00   \n",
       "5      1                1 2015-07-20 19:01:53+00:00   \n",
       "\n",
       "                                         description  user_verified  \\\n",
       "0                           The son of Rage and Love          False   \n",
       "1                       i'm a fully automated toilet          False   \n",
       "2  Trump supporter! I follow back all Patriots.  ...          False   \n",
       "4                                  #the Resistance🇱🇷          False   \n",
       "5  Let me be blunt; #Bernie2020\\n\\n              ...          False   \n",
       "\n",
       "                              tweet_text_wo_mentions          source_text  \\\n",
       "0  lil pump really said \"look at my wrist corona ...  Twitter for Android   \n",
       "1  @Stephan59177054 @NomikiKonst @JoeBiden I thou...  Twitter for Android   \n",
       "2  RT @Jali_Cat: Yet you’ve been in office since ...      Twitter Web App   \n",
       "4  RT @KaivanShroff: “I think it’s close to crimi...   Twitter for iPhone   \n",
       "5  @nickbixby @Michael58918973 @MSpicuzzaMJS @Syk...  Twitter for Android   \n",
       "\n",
       "   is_rt  from_iphone  \n",
       "0  False        False  \n",
       "1  False        False  \n",
       "2   True        False  \n",
       "4   True         True  \n",
       "5  False        False  "
      ]
     },
     "execution_count": 65,
     "metadata": {},
     "output_type": "execute_result"
    }
   ],
   "source": [
    "# change to from_iphone\n",
    "new_df['from_iphone'] = new_df['source_text'] == 'Twitter for iPhone'\n",
    "new_df.head()"
   ]
  },
  {
   "cell_type": "code",
   "execution_count": 66,
   "metadata": {},
   "outputs": [],
   "source": [
    "new_df = new_df.drop(['source_text','state','search_term_key'],axis=1)"
   ]
  },
  {
   "cell_type": "code",
   "execution_count": 67,
   "metadata": {},
   "outputs": [
    {
     "name": "stdout",
     "output_type": "stream",
     "text": [
      "<class 'pandas.core.frame.DataFrame'>\n",
      "Int64Index: 99927 entries, 0 to 117651\n",
      "Data columns (total 6 columns):\n",
      " #   Column                  Non-Null Count  Dtype              \n",
      "---  ------                  --------------  -----              \n",
      " 0   user_date_created       99927 non-null  datetime64[ns, UTC]\n",
      " 1   description             99927 non-null  object             \n",
      " 2   user_verified           99927 non-null  int64              \n",
      " 3   tweet_text_wo_mentions  99927 non-null  object             \n",
      " 4   is_rt                   99927 non-null  int64              \n",
      " 5   from_iphone             99927 non-null  int64              \n",
      "dtypes: datetime64[ns, UTC](1), int64(3), object(2)\n",
      "memory usage: 5.3+ MB\n"
     ]
    }
   ],
   "source": [
    "bool_dict = {True:1, False:0}\n",
    "final_df = new_df.replace(bool_dict)\n",
    "final_df.info()"
   ]
  },
  {
   "cell_type": "code",
   "execution_count": 68,
   "metadata": {},
   "outputs": [
    {
     "data": {
      "text/html": [
       "<div>\n",
       "<style scoped>\n",
       "    .dataframe tbody tr th:only-of-type {\n",
       "        vertical-align: middle;\n",
       "    }\n",
       "\n",
       "    .dataframe tbody tr th {\n",
       "        vertical-align: top;\n",
       "    }\n",
       "\n",
       "    .dataframe thead th {\n",
       "        text-align: right;\n",
       "    }\n",
       "</style>\n",
       "<table border=\"1\" class=\"dataframe\">\n",
       "  <thead>\n",
       "    <tr style=\"text-align: right;\">\n",
       "      <th></th>\n",
       "      <th>user_date_created</th>\n",
       "      <th>description</th>\n",
       "      <th>user_verified</th>\n",
       "      <th>tweet_text_wo_mentions</th>\n",
       "      <th>is_rt</th>\n",
       "      <th>from_iphone</th>\n",
       "    </tr>\n",
       "  </thead>\n",
       "  <tbody>\n",
       "    <tr>\n",
       "      <th>0</th>\n",
       "      <td>2009-04-06 14:53:51+00:00</td>\n",
       "      <td>The son of Rage and Love</td>\n",
       "      <td>0</td>\n",
       "      <td>lil pump really said \"look at my wrist corona ...</td>\n",
       "      <td>0</td>\n",
       "      <td>0</td>\n",
       "    </tr>\n",
       "    <tr>\n",
       "      <th>1</th>\n",
       "      <td>2016-01-16 04:42:14+00:00</td>\n",
       "      <td>i'm a fully automated toilet</td>\n",
       "      <td>0</td>\n",
       "      <td>@Stephan59177054 @NomikiKonst @JoeBiden I thou...</td>\n",
       "      <td>0</td>\n",
       "      <td>0</td>\n",
       "    </tr>\n",
       "    <tr>\n",
       "      <th>2</th>\n",
       "      <td>2015-04-21 02:02:20+00:00</td>\n",
       "      <td>Trump supporter! I follow back all Patriots.  ...</td>\n",
       "      <td>0</td>\n",
       "      <td>RT @Jali_Cat: Yet you’ve been in office since ...</td>\n",
       "      <td>1</td>\n",
       "      <td>0</td>\n",
       "    </tr>\n",
       "    <tr>\n",
       "      <th>4</th>\n",
       "      <td>2009-11-22 20:47:43+00:00</td>\n",
       "      <td>#the Resistance🇱🇷</td>\n",
       "      <td>0</td>\n",
       "      <td>RT @KaivanShroff: “I think it’s close to crimi...</td>\n",
       "      <td>1</td>\n",
       "      <td>1</td>\n",
       "    </tr>\n",
       "    <tr>\n",
       "      <th>5</th>\n",
       "      <td>2015-07-20 19:01:53+00:00</td>\n",
       "      <td>Let me be blunt; #Bernie2020\\n\\n              ...</td>\n",
       "      <td>0</td>\n",
       "      <td>@nickbixby @Michael58918973 @MSpicuzzaMJS @Syk...</td>\n",
       "      <td>0</td>\n",
       "      <td>0</td>\n",
       "    </tr>\n",
       "  </tbody>\n",
       "</table>\n",
       "</div>"
      ],
      "text/plain": [
       "          user_date_created  \\\n",
       "0 2009-04-06 14:53:51+00:00   \n",
       "1 2016-01-16 04:42:14+00:00   \n",
       "2 2015-04-21 02:02:20+00:00   \n",
       "4 2009-11-22 20:47:43+00:00   \n",
       "5 2015-07-20 19:01:53+00:00   \n",
       "\n",
       "                                         description  user_verified  \\\n",
       "0                           The son of Rage and Love              0   \n",
       "1                       i'm a fully automated toilet              0   \n",
       "2  Trump supporter! I follow back all Patriots.  ...              0   \n",
       "4                                  #the Resistance🇱🇷              0   \n",
       "5  Let me be blunt; #Bernie2020\\n\\n              ...              0   \n",
       "\n",
       "                              tweet_text_wo_mentions  is_rt  from_iphone  \n",
       "0  lil pump really said \"look at my wrist corona ...      0            0  \n",
       "1  @Stephan59177054 @NomikiKonst @JoeBiden I thou...      0            0  \n",
       "2  RT @Jali_Cat: Yet you’ve been in office since ...      1            0  \n",
       "4  RT @KaivanShroff: “I think it’s close to crimi...      1            1  \n",
       "5  @nickbixby @Michael58918973 @MSpicuzzaMJS @Syk...      0            0  "
      ]
     },
     "execution_count": 68,
     "metadata": {},
     "output_type": "execute_result"
    }
   ],
   "source": [
    "final_df.head()"
   ]
  },
  {
   "cell_type": "code",
   "execution_count": 69,
   "metadata": {},
   "outputs": [
    {
     "data": {
      "text/plain": [
       "(99927, 6)"
      ]
     },
     "execution_count": 69,
     "metadata": {},
     "output_type": "execute_result"
    }
   ],
   "source": [
    "final_df.shape"
   ]
  },
  {
   "cell_type": "code",
   "execution_count": 70,
   "metadata": {},
   "outputs": [
    {
     "data": {
      "text/plain": [
       "(99927, 2)"
      ]
     },
     "execution_count": 70,
     "metadata": {},
     "output_type": "execute_result"
    }
   ],
   "source": [
    "targets.shape"
   ]
  },
  {
   "cell_type": "code",
   "execution_count": 23,
   "metadata": {},
   "outputs": [
    {
     "name": "stderr",
     "output_type": "stream",
     "text": [
      "/opt/conda/lib/python3.7/site-packages/sklearn/utils/deprecation.py:144: FutureWarning: The sklearn.feature_extraction.stop_words module is  deprecated in version 0.22 and will be removed in version 0.24. The corresponding classes / functions should instead be imported from sklearn.feature_extraction.text. Anything that cannot be imported from sklearn.feature_extraction.text is now part of the private API.\n",
      "  warnings.warn(message, FutureWarning)\n"
     ]
    }
   ],
   "source": [
    "# text cleaning\n",
    "import re\n",
    "from sklearn.feature_extraction import stop_words\n",
    "stopwords = stop_words.ENGLISH_STOP_WORDS\n",
    "\n",
    "class TextCleaner():\n",
    "    '''\n",
    "    This class instantiates an object with attributes of text preprocessing dictionaries and \n",
    "    a method for applying this to a list of text. \n",
    "    '''\n",
    "    def __init__(self):\n",
    "        self.re_substitution_groups = [r'http\\S+', r'&amp; ', r\"[@#]\", r\"[!?$%()*+,-./:;<=>\\^_`{|}~]\"]\n",
    "        self. text_abbrevs = { 'lol': 'laughing out loud', 'bfn': 'bye for now', 'cuz': 'because',\n",
    "                            'afk': 'away from keyboard', 'nvm': 'never mind', 'iirc': 'if i recall correctly',\n",
    "                            'ttyl': 'talk to you later', 'imho': 'in my honest opinion', 'brb': 'be right back' }\n",
    "        self.grammar_abbrevs = {\"isn't\":\"is not\", \"aren't\":\"are not\", \"wasn't\":\"was not\", \"weren't\":\"were not\",\n",
    "                             \"haven't\":\"have not\",\"hasn't\":\"has not\",\"hadn't\":\"had not\",\"won't\":\"will not\",\n",
    "                             \"wouldn't\":\"would not\", \"don't\":\"do not\", \"doesn't\":\"does not\",\"didn't\":\"did not\",\n",
    "                             \"can't\":\"can not\",\"couldn't\":\"could not\",\"shouldn't\":\"should not\",\"mightn't\":\"might not\",\n",
    "                             \"mustn't\":\"must not\"}\n",
    "\n",
    "\n",
    "    def clean_tweets(self, df_tweet_text, last_clean_step=6):\n",
    "        '''\n",
    "        This function will clean the text of tweets, with ability to very the last step of cleaning.\n",
    "        order:\n",
    "        1. lowercase\n",
    "        2. change txt abbreviations\n",
    "        3. change grammar abbreviation\n",
    "        4. remove punctuation\n",
    "        5. remove special (utf-8) characters\n",
    "        6. remove stop words\n",
    "        '''\n",
    "        df_tweet_text_sw = str(df_tweet_text)\n",
    "\n",
    "        if last_clean_step == 0:\n",
    "            clean_text = df_tweet_text_sw\n",
    "\n",
    "        elif last_clean_step == 1:\n",
    "            clean_text = df_tweet_text_sw.lower()\n",
    "\n",
    "        elif last_clean_step == 2:\n",
    "            lower = df_tweet_text_sw.lower()\n",
    "            clean_text = ' '.join([self.text_abbrevs.get(elem, elem) for elem in lower.split()])\n",
    "        \n",
    "        elif last_clean_step == 3:\n",
    "            lower = df_tweet_text_sw.lower()\n",
    "            without_text_abbrevs = ' '.join([self.text_abbrevs.get(elem, elem) for elem in lower.split()])\n",
    "            clean_text = ' '.join([self.grammar_abbrevs.get(elem, elem) for elem in without_text_abbrevs.split()])\n",
    "        \n",
    "        elif last_clean_step == 4:\n",
    "            lower = df_tweet_text_sw.lower()\n",
    "            without_text_abbrevs = ' '.join([self.text_abbrevs.get(elem, elem) for elem in lower.split()])\n",
    "            without_grammar_abbrevs = ' '.join([self.grammar_abbrevs.get(elem, elem) for elem in without_text_abbrevs.split()])\n",
    "            \n",
    "            joined_re_groups = '|'.join([group for group in self.re_substitution_groups])\n",
    "            clean_text = re.sub(joined_re_groups,' ',without_grammar_abbrevs)\n",
    "        \n",
    "        elif last_clean_step == 5:\n",
    "            lower = df_tweet_text_sw.lower()\n",
    "            without_text_abbrevs = ' '.join([self.text_abbrevs.get(elem, elem) for elem in lower.split()])\n",
    "            without_grammar_abbrevs = ' '.join([self.grammar_abbrevs.get(elem, elem) for elem in without_text_abbrevs.split()])\n",
    "            \n",
    "            joined_re_groups = '|'.join([group for group in self.re_substitution_groups])\n",
    "            without_re_groups = re.sub(joined_re_groups,' ',without_grammar_abbrevs)\n",
    "\n",
    "            clean_text = re.sub(r'\\W',' ',without_re_groups)\n",
    "\n",
    "        elif last_clean_step == 6:\n",
    "            lower = df_tweet_text_sw.lower()\n",
    "            without_text_abbrevs = ' '.join([self.text_abbrevs.get(elem, elem) for elem in lower.split()])\n",
    "            without_grammar_abbrevs = ' '.join([self.grammar_abbrevs.get(elem, elem) for elem in without_text_abbrevs.split()])\n",
    "            \n",
    "            joined_re_groups = '|'.join([group for group in self.re_substitution_groups])\n",
    "            without_re_groups = re.sub(joined_re_groups,' ',without_grammar_abbrevs)\n",
    "\n",
    "            without_nontext = re.sub(r'\\W',' ',without_re_groups)\n",
    "\n",
    "            clean_text = ' '.join([word for word in without_nontext.split() if word not in stopwords])\n",
    "        \n",
    "        words_greater_than_two_char = ' '.join([word for word in clean_text.split() if len(word) >= 3])\n",
    "\n",
    "        one_space_separated_tweet = ' '.join([word for word in words_greater_than_two_char.split()])\n",
    "\n",
    "        return one_space_separated_tweet"
   ]
  },
  {
   "cell_type": "code",
   "execution_count": 71,
   "metadata": {},
   "outputs": [],
   "source": [
    "# split text into train/test\n",
    "from sklearn.model_selection import train_test_split\n",
    "\n",
    "X_tweet_train, X_tweet_test, y_tweet_train, y_tweet_test = train_test_split(final_df['tweet_text_wo_mentions'], targets, stratify=targets)"
   ]
  },
  {
   "cell_type": "code",
   "execution_count": 73,
   "metadata": {},
   "outputs": [
    {
     "data": {
      "text/plain": [
       "35617     @realDonaldTrump I’m one of those people that ...\n",
       "109208    RT @JimRondinelli: Tommy Lee from Motley Crue ...\n",
       "59606     RT @livefist: IAF Super Herc delivers 6.2 tonn...\n",
       "53760       @arizonashley Jason isbell all day for sure lol\n",
       "10718     @WWEonFOX Yay finally the truth was found and ...\n",
       "Name: tweet_text_wo_mentions, dtype: object"
      ]
     },
     "execution_count": 73,
     "metadata": {},
     "output_type": "execute_result"
    }
   ],
   "source": []
  },
  {
   "cell_type": "code",
   "execution_count": 74,
   "metadata": {},
   "outputs": [],
   "source": [
    "tweet_text = X_tweet_train"
   ]
  },
  {
   "cell_type": "code",
   "execution_count": 75,
   "metadata": {},
   "outputs": [],
   "source": [
    "retweet_regex = \"^RT @\"\n",
    "mentions_regex = \"^@\"\n",
    "# should create column for is_rt\n",
    "no_rt = [' '.join([w for w in tweet.split(' ') if not re.search(retweet_regex, w)]) for tweet in tweet_text]\n",
    "# elim mentions\n",
    "no_mentions = [' '.join([w for w in tweet.split(' ') if not re.search(mentions_regex, w)]) for tweet in no_rt]"
   ]
  },
  {
   "cell_type": "code",
   "execution_count": 76,
   "metadata": {},
   "outputs": [],
   "source": [
    "no_tn = [' '.join(re.split(r'[ \\t\\n]+', tweet)) for tweet in no_mentions]"
   ]
  },
  {
   "cell_type": "code",
   "execution_count": 77,
   "metadata": {},
   "outputs": [],
   "source": [
    "no_https = [' '.join([w for w in tweet.split(' ') if not re.search('^[https http]', w)]) for tweet in no_tn]"
   ]
  },
  {
   "cell_type": "code",
   "execution_count": 78,
   "metadata": {},
   "outputs": [],
   "source": [
    "cleaner = TextCleaner()"
   ]
  },
  {
   "cell_type": "code",
   "execution_count": 29,
   "metadata": {},
   "outputs": [],
   "source": [
    "cleaned = cleaner.clean_tweets(no_https,3)"
   ]
  },
  {
   "cell_type": "code",
   "execution_count": 79,
   "metadata": {},
   "outputs": [],
   "source": [
    "cleaned = [cleaner.clean_tweets(tweet,4) for tweet in no_https]"
   ]
  },
  {
   "cell_type": "code",
   "execution_count": 80,
   "metadata": {},
   "outputs": [
    {
     "data": {
      "text/plain": [
       "['i’m one vote mail you ignorant idiot there are millions an…',\n",
       " 'tommy lee from motley crue winning twitterverse',\n",
       " 'iaf super herc delivers essential covid19 medicines and consumables maldives operation…',\n",
       " 'jason isbell all day for laughing out loud',\n",
       " 'yay finally was found and love can now flowwwww for otis and mandy']"
      ]
     },
     "execution_count": 80,
     "metadata": {},
     "output_type": "execute_result"
    }
   ],
   "source": [
    "cleaned[0:5]"
   ]
  },
  {
   "cell_type": "code",
   "execution_count": 81,
   "metadata": {},
   "outputs": [
    {
     "data": {
      "text/plain": [
       "['I’m one of vote by mail you IGNORANT IDIOT! There are millions of us do! An…',\n",
       " 'RT Tommy Lee from Motley Crue is winning Twitterverse',\n",
       " 'RT IAF Super Herc delivers 6.2 of essential #Covid19 medicines and consumables Maldives as of Operation…',\n",
       " 'Jason isbell all day for lol',\n",
       " 'Yay finally was found and love can now flowwwww im for Otis and Mandy.']"
      ]
     },
     "execution_count": 81,
     "metadata": {},
     "output_type": "execute_result"
    }
   ],
   "source": [
    "no_https[0:5]"
   ]
  },
  {
   "cell_type": "code",
   "execution_count": 85,
   "metadata": {},
   "outputs": [],
   "source": [
    "from sklearn.feature_extraction.text import TfidfVectorizer\n",
    "vectorizer = TfidfVectorizer(max_features=1000)\n",
    "X_tweet = vectorizer.fit_transform(cleaned)"
   ]
  },
  {
   "cell_type": "code",
   "execution_count": 86,
   "metadata": {},
   "outputs": [
    {
     "data": {
      "text/plain": [
       "(74945, 1000)"
      ]
     },
     "execution_count": 86,
     "metadata": {},
     "output_type": "execute_result"
    }
   ],
   "source": [
    "X_tweet.shape"
   ]
  },
  {
   "cell_type": "code",
   "execution_count": null,
   "metadata": {},
   "outputs": [],
   "source": []
  },
  {
   "cell_type": "code",
   "execution_count": 89,
   "metadata": {},
   "outputs": [
    {
     "data": {
      "text/plain": [
       "PCA(copy=True, iterated_power='auto', n_components=100, random_state=13,\n",
       "    svd_solver='auto', tol=0.0, whiten=False)"
      ]
     },
     "execution_count": 89,
     "metadata": {},
     "output_type": "execute_result"
    }
   ],
   "source": [
    "from sklearn.decomposition import PCA\n",
    "\n",
    "pca = PCA(n_components=100, random_state=13)\n",
    "pca.fit(X_tweet.todense())"
   ]
  },
  {
   "cell_type": "code",
   "execution_count": 90,
   "metadata": {},
   "outputs": [
    {
     "data": {
      "text/plain": [
       "array([0.01732394, 0.01166249, 0.01056836, 0.00868958, 0.00850777,\n",
       "       0.00828884, 0.00733098, 0.00722639, 0.00715763, 0.006784  ])"
      ]
     },
     "execution_count": 90,
     "metadata": {},
     "output_type": "execute_result"
    }
   ],
   "source": [
    "pca.explained_variance_ratio_[:10]"
   ]
  },
  {
   "cell_type": "code",
   "execution_count": 92,
   "metadata": {},
   "outputs": [
    {
     "data": {
      "text/plain": [
       "[<matplotlib.lines.Line2D at 0x7f8933bc9750>]"
      ]
     },
     "execution_count": 92,
     "metadata": {},
     "output_type": "execute_result"
    },
    {
     "data": {
      "image/png": "[encoded data removed]",
      "text/plain": [
       "<Figure size 432x288 with 1 Axes>"
      ]
     },
     "metadata": {
      "needs_background": "light"
     },
     "output_type": "display_data"
    }
   ],
   "source": [
    "plt.plot(np.linspace(0,100,100),np.cumsum(pca.explained_variance_ratio_))"
   ]
  },
  {
   "cell_type": "code",
   "execution_count": 93,
   "metadata": {},
   "outputs": [],
   "source": [
    "# lets try a stemmer\n",
    "from nltk.stem import PorterStemmer\n",
    "\n",
    "ps = PorterStemmer()"
   ]
  },
  {
   "cell_type": "code",
   "execution_count": 94,
   "metadata": {},
   "outputs": [],
   "source": [
    "stemmed_tweets = [' '.join([ps.stem(w) for w in tweet.split(' ')]) for tweet in cleaned]"
   ]
  },
  {
   "cell_type": "code",
   "execution_count": 95,
   "metadata": {},
   "outputs": [],
   "source": [
    "X_tweet_ps = vectorizer.fit_transform(stemmed_tweets)"
   ]
  },
  {
   "cell_type": "code",
   "execution_count": 96,
   "metadata": {},
   "outputs": [
    {
     "data": {
      "text/plain": [
       "PCA(copy=True, iterated_power='auto', n_components=100, random_state=13,\n",
       "    svd_solver='auto', tol=0.0, whiten=False)"
      ]
     },
     "execution_count": 96,
     "metadata": {},
     "output_type": "execute_result"
    }
   ],
   "source": [
    "pca.fit(X_tweet_ps.todense())"
   ]
  },
  {
   "cell_type": "code",
   "execution_count": 97,
   "metadata": {},
   "outputs": [
    {
     "data": {
      "text/plain": [
       "[<matplotlib.lines.Line2D at 0x7f8931682ad0>]"
      ]
     },
     "execution_count": 97,
     "metadata": {},
     "output_type": "execute_result"
    },
    {
     "data": {
      "image/png": "[encoded data removed]",
      "text/plain": [
       "<Figure size 432x288 with 1 Axes>"
      ]
     },
     "metadata": {
      "needs_background": "light"
     },
     "output_type": "display_data"
    }
   ],
   "source": [
    "plt.plot(np.linspace(0,100,100),np.cumsum(pca.explained_variance_ratio_))"
   ]
  },
  {
   "cell_type": "code",
   "execution_count": 98,
   "metadata": {},
   "outputs": [],
   "source": [
    "from nltk.stem import WordNetLemmatizer\n",
    "\n",
    "lem = WordNetLemmatizer()"
   ]
  },
  {
   "cell_type": "code",
   "execution_count": 99,
   "metadata": {},
   "outputs": [
    {
     "name": "stderr",
     "output_type": "stream",
     "text": [
      "[nltk_data] Error loading wordnet: <urlopen error [Errno -3] Temporary\n",
      "[nltk_data]     failure in name resolution>\n"
     ]
    }
   ],
   "source": [
    "import nltk\n",
    "nltk.download('wordnet')\n",
    "lemmed_tweets = [' '.join([lem.lemmatize(w) for w in tweet.split(' ')]) for tweet in cleaned]"
   ]
  },
  {
   "cell_type": "code",
   "execution_count": 100,
   "metadata": {},
   "outputs": [
    {
     "data": {
      "text/plain": [
       "'i’m one vote mail you ignorant idiot there are million an…'"
      ]
     },
     "execution_count": 100,
     "metadata": {},
     "output_type": "execute_result"
    }
   ],
   "source": [
    "lemmed_tweets[0]"
   ]
  },
  {
   "cell_type": "code",
   "execution_count": 101,
   "metadata": {},
   "outputs": [],
   "source": [
    "X_tweet_lem = vectorizer.fit_transform(lemmed_tweets)"
   ]
  },
  {
   "cell_type": "code",
   "execution_count": 102,
   "metadata": {},
   "outputs": [
    {
     "data": {
      "text/plain": [
       "PCA(copy=True, iterated_power='auto', n_components=100, random_state=13,\n",
       "    svd_solver='auto', tol=0.0, whiten=False)"
      ]
     },
     "execution_count": 102,
     "metadata": {},
     "output_type": "execute_result"
    }
   ],
   "source": [
    "pca.fit(X_tweet_lem.todense())"
   ]
  },
  {
   "cell_type": "code",
   "execution_count": 104,
   "metadata": {},
   "outputs": [
    {
     "data": {
      "text/plain": [
       "[<matplotlib.lines.Line2D at 0x7f8933b8dad0>]"
      ]
     },
     "execution_count": 104,
     "metadata": {},
     "output_type": "execute_result"
    },
    {
     "data": {
      "image/png": "[encoded data removed]",
      "text/plain": [
       "<Figure size 432x288 with 1 Axes>"
      ]
     },
     "metadata": {
      "needs_background": "light"
     },
     "output_type": "display_data"
    }
   ],
   "source": [
    "plt.plot(np.linspace(0,100,100),np.cumsum(pca.explained_variance_ratio_))"
   ]
  },
  {
   "cell_type": "code",
   "execution_count": 109,
   "metadata": {},
   "outputs": [],
   "source": [
    "from sklearn.naive_bayes import MultinomialNB\n",
    "mnb = MultinomialNB()\n",
    "mnb.fit(X_tweet, y_tweet_train['state'])\n",
    "proba = mnb.predict_proba(X_tweet)"
   ]
  },
  {
   "cell_type": "code",
   "execution_count": 111,
   "metadata": {},
   "outputs": [
    {
     "data": {
      "text/plain": [
       "array([[0.33065685, 0.34536228, 0.32398087],\n",
       "       [0.2219891 , 0.62023458, 0.15777631],\n",
       "       [0.33640596, 0.30845888, 0.35513516],\n",
       "       [0.38727302, 0.35853727, 0.25418971],\n",
       "       [0.35970307, 0.35115482, 0.28914211]])"
      ]
     },
     "execution_count": 111,
     "metadata": {},
     "output_type": "execute_result"
    }
   ],
   "source": [
    "proba[:5,:]"
   ]
  },
  {
   "cell_type": "code",
   "execution_count": 113,
   "metadata": {},
   "outputs": [
    {
     "data": {
      "text/plain": [
       "35617     1\n",
       "109208    3\n",
       "59606     2\n",
       "53760     2\n",
       "10718     1\n",
       "Name: state, dtype: int64"
      ]
     },
     "execution_count": 113,
     "metadata": {},
     "output_type": "execute_result"
    }
   ],
   "source": [
    "y_tweet_train['state'][:5]"
   ]
  },
  {
   "cell_type": "code",
   "execution_count": 114,
   "metadata": {},
   "outputs": [
    {
     "data": {
      "text/plain": [
       "0.41156848355460673"
      ]
     },
     "execution_count": 114,
     "metadata": {},
     "output_type": "execute_result"
    }
   ],
   "source": [
    "mnb.score(X_tweet,y_tweet_train['state'])"
   ]
  },
  {
   "cell_type": "code",
   "execution_count": 115,
   "metadata": {},
   "outputs": [],
   "source": [
    "mnb.fit(X_tweet, y_tweet_train['search_term_key'])\n",
    "proba = mnb.predict_proba(X_tweet)"
   ]
  },
  {
   "cell_type": "code",
   "execution_count": 116,
   "metadata": {},
   "outputs": [
    {
     "data": {
      "text/plain": [
       "array([[0.52315323, 0.06647655, 0.01932961, 0.04912835, 0.34191225],\n",
       "       [0.00359753, 0.00680072, 0.00427313, 0.0052793 , 0.98004933],\n",
       "       [0.03387501, 0.08543639, 0.75052279, 0.0702433 , 0.05992251],\n",
       "       [0.0870695 , 0.45894962, 0.00529416, 0.39906717, 0.04961954],\n",
       "       [0.11035735, 0.44022579, 0.05190415, 0.30677058, 0.09074213]])"
      ]
     },
     "execution_count": 116,
     "metadata": {},
     "output_type": "execute_result"
    }
   ],
   "source": [
    "proba[:5,:]"
   ]
  },
  {
   "cell_type": "code",
   "execution_count": 118,
   "metadata": {},
   "outputs": [
    {
     "data": {
      "text/plain": [
       "35617     5\n",
       "109208    5\n",
       "59606     3\n",
       "53760     2\n",
       "10718     2\n",
       "Name: search_term_key, dtype: int64"
      ]
     },
     "execution_count": 118,
     "metadata": {},
     "output_type": "execute_result"
    }
   ],
   "source": [
    "y_tweet_train['search_term_key'][:5]"
   ]
  },
  {
   "cell_type": "code",
   "execution_count": 119,
   "metadata": {},
   "outputs": [
    {
     "data": {
      "text/plain": [
       "0.4883314430582427"
      ]
     },
     "execution_count": 119,
     "metadata": {},
     "output_type": "execute_result"
    }
   ],
   "source": [
    "mnb.score(X_tweet,y_tweet_train['search_term_key'])"
   ]
  },
  {
   "cell_type": "code",
   "execution_count": 128,
   "metadata": {},
   "outputs": [
    {
     "data": {
      "text/plain": [
       "0.4939222096203883"
      ]
     },
     "execution_count": 128,
     "metadata": {},
     "output_type": "execute_result"
    }
   ],
   "source": [
    "mnb.fit(X_tweet_ps, y_tweet_train['search_term_key'])\n",
    "y_hat = mnb.predict(X_tweet_ps)\n",
    "mnb.score(X_tweet_ps,y_tweet_train['search_term_key'])"
   ]
  },
  {
   "cell_type": "code",
   "execution_count": 137,
   "metadata": {},
   "outputs": [],
   "source": [
    "from sklearn.metrics import precision_score, recall_score"
   ]
  },
  {
   "cell_type": "code",
   "execution_count": 149,
   "metadata": {},
   "outputs": [],
   "source": [
    "precision = precision_score(y_tweet_train['search_term_key'], y_hat, labels=[1,2,3,4,5], average=None)\n",
    "recall = recall_score(y_tweet_train['search_term_key'], y_hat, labels=[1,2,3,4,5], average=None)"
   ]
  },
  {
   "cell_type": "code",
   "execution_count": 150,
   "metadata": {},
   "outputs": [
    {
     "name": "stdout",
     "output_type": "stream",
     "text": [
      "[0.58745527 0.38840233 0.69063564 0.3925838  0.54314721]\n"
     ]
    }
   ],
   "source": [
    "print(precision)"
   ]
  },
  {
   "cell_type": "code",
   "execution_count": 151,
   "metadata": {},
   "outputs": [
    {
     "name": "stdout",
     "output_type": "stream",
     "text": [
      "[0.51710721 0.6466735  0.61000679 0.18773269 0.53368358]\n"
     ]
    }
   ],
   "source": [
    "print(recall)"
   ]
  },
  {
   "cell_type": "code",
   "execution_count": 154,
   "metadata": {},
   "outputs": [],
   "source": [
    "# make roc curve\n",
    "from sklearn.multiclass import OneVsRestClassifier\n",
    "from sklearn.preprocessing import label_binarize\n",
    "from sklearn.metrics import roc_curve, auc\n",
    "from sklearn.svm import LinearSVC"
   ]
  },
  {
   "cell_type": "code",
   "execution_count": 155,
   "metadata": {},
   "outputs": [],
   "source": [
    "y = label_binarize(targets['search_term_key'], classes=[1,2,3,4,5])\n",
    "n_classes = 5\n",
    "\n",
    "tweet_text = final_df['tweet_text_wo_mentions']\n",
    "\n",
    "# clean text\n",
    "retweet_regex = \"^RT @\"\n",
    "mentions_regex = \"^@\"\n",
    "# should create column for is_rt\n",
    "no_rt = [' '.join([w for w in tweet.split(' ') if not re.search(retweet_regex, w)]) for tweet in tweet_text]\n",
    "# elim mentions\n",
    "no_mentions = [' '.join([w for w in tweet.split(' ') if not re.search(mentions_regex, w)]) for tweet in no_rt]\n",
    "no_tn = [' '.join(re.split(r'[ \\t\\n]+', tweet)) for tweet in no_mentions]\n",
    "no_https = [' '.join([w for w in tweet.split(' ') if not re.search('^[https http]', w)]) for tweet in no_tn]\n",
    "cleaned = [cleaner.clean_tweets(tweet,4) for tweet in no_https]\n",
    "\n",
    "vectorizer = TfidfVectorizer(max_features=1000)\n",
    "X_tweet = vectorizer.fit_transform(cleaned)\n",
    "\n",
    "# shuffle and split training and test sets\n",
    "X_train, X_test, y_train, y_test =\\\n",
    "    train_test_split(X_tweet, y, test_size=0.33, random_state=0, stratify=y)\n",
    "\n",
    "\n",
    "# classifier\n",
    "clf = OneVsRestClassifier(LinearSVC(random_state=0))\n",
    "y_score = clf.fit(X_train, y_train).decision_function(X_test)\n",
    "\n",
    "# Compute ROC curve and ROC area for each class\n",
    "fpr = dict()\n",
    "tpr = dict()\n",
    "roc_auc = dict()\n",
    "for i in range(n_classes):\n",
    "    fpr[i], tpr[i], _ = roc_curve(y_test[:, i], y_score[:, i])\n",
    "    roc_auc[i] = auc(fpr[i], tpr[i])"
   ]
  },
  {
   "cell_type": "code",
   "execution_count": 171,
   "metadata": {},
   "outputs": [
    {
     "data": {
      "image/png": "[encoded data removed]",
      "text/plain": [
       "<Figure size 1080x1080 with 1 Axes>"
      ]
     },
     "metadata": {
      "needs_background": "light"
     },
     "output_type": "display_data"
    }
   ],
   "source": [
    "# Plot of a ROC curve for a specific class\n",
    "\n",
    "term_dict = {1:'@joebiden', 2:'@joebiden_#COVID19', 3:'#COVID19', 4:'@realdonaldtrump_#COVID19', 5:'@realdonaldtrump'}\n",
    "\n",
    "fig, ax = plt.subplots(1, figsize=(15,15))\n",
    "\n",
    "for i in range(n_classes):\n",
    "    ax.plot(fpr[i], tpr[i], label='{} (area = {:0.02f})'.format(term_dict.get(i+1), roc_auc[i]))\n",
    "ax.plot([0, 1], [0, 1], 'k--')\n",
    "ax.set_xlim([0.0, 1.0])\n",
    "ax.set_ylim([0.0, 1.0])\n",
    "ax.set_xlabel('False Positive Rate')\n",
    "ax.set_ylabel('True Positive Rate')\n",
    "ax.set_title('ROC by Search Term')\n",
    "ax.legend(loc=\"lower right\")\n",
    "plt.show()"
   ]
  },
  {
   "cell_type": "code",
   "execution_count": null,
   "metadata": {},
   "outputs": [],
   "source": []
  }
 ],
 "metadata": {
  "kernelspec": {
   "display_name": "Python 3",
   "language": "python",
   "name": "python3"
  },
  "language_info": {
   "codemirror_mode": {
    "name": "ipython",
    "version": 3
   },
   "file_extension": ".py",
   "mimetype": "text/x-python",
   "name": "python",
   "nbconvert_exporter": "python",
   "pygments_lexer": "ipython3",
   "version": "3.7.6"
  }
 },
 "nbformat": 4,
 "nbformat_minor": 4
}
